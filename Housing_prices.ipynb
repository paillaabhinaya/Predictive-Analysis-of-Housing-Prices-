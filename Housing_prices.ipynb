{
  "cells": [
    {
      "cell_type": "markdown",
      "source": [
        "# Team 5 - Kiran Kumar | Satya Machindra Gattu | Abhinaya Pailla"
      ],
      "metadata": {
        "id": "5GlG0JF8Gier"
      },
      "id": "5GlG0JF8Gier"
    },
    {
      "cell_type": "code",
      "execution_count": null,
      "id": "d0b17e36",
      "metadata": {
        "id": "d0b17e36"
      },
      "outputs": [],
      "source": [
        "# Importing the Pandas library and aliases it as \"pd\" for easier use in the code\n",
        "import pandas as pd\n",
        "# Reading an Excel file named 'Housing_data.xls' that stores its data in a Pandas DataFrame called \"df\n",
        "df=pd.read_excel('Housing_data.xls')"
      ]
    },
    {
      "cell_type": "code",
      "execution_count": null,
      "id": "22fff40e",
      "metadata": {
        "colab": {
          "base_uri": "https://localhost:8080/",
          "height": 206
        },
        "id": "22fff40e",
        "outputId": "a03d1c2b-e220-43bf-fc7d-fd4b0a01de5a"
      },
      "outputs": [
        {
          "output_type": "execute_result",
          "data": {
            "text/plain": [
              "   Id  MSSubClass MSZoning  LotArea LotConfig BldgType  OverallCond  \\\n",
              "0   0          60       RL     8450    Inside     1Fam            5   \n",
              "1   1          20       RL     9600       FR2     1Fam            8   \n",
              "2   2          60       RL    11250    Inside     1Fam            5   \n",
              "3   3          70       RL     9550    Corner     1Fam            5   \n",
              "4   4          60       RL    14260       FR2     1Fam            5   \n",
              "\n",
              "   YearBuilt  YearRemodAdd Exterior1st  BsmtFinSF2  TotalBsmtSF  SalePrice  \n",
              "0       2003          2003     VinylSd         0.0        856.0   208500.0  \n",
              "1       1976          1976     MetalSd         0.0       1262.0   181500.0  \n",
              "2       2001          2002     VinylSd         0.0        920.0   223500.0  \n",
              "3       1915          1970     Wd Sdng         0.0        756.0   140000.0  \n",
              "4       2000          2000     VinylSd         0.0       1145.0   250000.0  "
            ],
            "text/html": [
              "\n",
              "  <div id=\"df-cc7109d1-cd29-4e83-a353-35f663b5705f\" class=\"colab-df-container\">\n",
              "    <div>\n",
              "<style scoped>\n",
              "    .dataframe tbody tr th:only-of-type {\n",
              "        vertical-align: middle;\n",
              "    }\n",
              "\n",
              "    .dataframe tbody tr th {\n",
              "        vertical-align: top;\n",
              "    }\n",
              "\n",
              "    .dataframe thead th {\n",
              "        text-align: right;\n",
              "    }\n",
              "</style>\n",
              "<table border=\"1\" class=\"dataframe\">\n",
              "  <thead>\n",
              "    <tr style=\"text-align: right;\">\n",
              "      <th></th>\n",
              "      <th>Id</th>\n",
              "      <th>MSSubClass</th>\n",
              "      <th>MSZoning</th>\n",
              "      <th>LotArea</th>\n",
              "      <th>LotConfig</th>\n",
              "      <th>BldgType</th>\n",
              "      <th>OverallCond</th>\n",
              "      <th>YearBuilt</th>\n",
              "      <th>YearRemodAdd</th>\n",
              "      <th>Exterior1st</th>\n",
              "      <th>BsmtFinSF2</th>\n",
              "      <th>TotalBsmtSF</th>\n",
              "      <th>SalePrice</th>\n",
              "    </tr>\n",
              "  </thead>\n",
              "  <tbody>\n",
              "    <tr>\n",
              "      <th>0</th>\n",
              "      <td>0</td>\n",
              "      <td>60</td>\n",
              "      <td>RL</td>\n",
              "      <td>8450</td>\n",
              "      <td>Inside</td>\n",
              "      <td>1Fam</td>\n",
              "      <td>5</td>\n",
              "      <td>2003</td>\n",
              "      <td>2003</td>\n",
              "      <td>VinylSd</td>\n",
              "      <td>0.0</td>\n",
              "      <td>856.0</td>\n",
              "      <td>208500.0</td>\n",
              "    </tr>\n",
              "    <tr>\n",
              "      <th>1</th>\n",
              "      <td>1</td>\n",
              "      <td>20</td>\n",
              "      <td>RL</td>\n",
              "      <td>9600</td>\n",
              "      <td>FR2</td>\n",
              "      <td>1Fam</td>\n",
              "      <td>8</td>\n",
              "      <td>1976</td>\n",
              "      <td>1976</td>\n",
              "      <td>MetalSd</td>\n",
              "      <td>0.0</td>\n",
              "      <td>1262.0</td>\n",
              "      <td>181500.0</td>\n",
              "    </tr>\n",
              "    <tr>\n",
              "      <th>2</th>\n",
              "      <td>2</td>\n",
              "      <td>60</td>\n",
              "      <td>RL</td>\n",
              "      <td>11250</td>\n",
              "      <td>Inside</td>\n",
              "      <td>1Fam</td>\n",
              "      <td>5</td>\n",
              "      <td>2001</td>\n",
              "      <td>2002</td>\n",
              "      <td>VinylSd</td>\n",
              "      <td>0.0</td>\n",
              "      <td>920.0</td>\n",
              "      <td>223500.0</td>\n",
              "    </tr>\n",
              "    <tr>\n",
              "      <th>3</th>\n",
              "      <td>3</td>\n",
              "      <td>70</td>\n",
              "      <td>RL</td>\n",
              "      <td>9550</td>\n",
              "      <td>Corner</td>\n",
              "      <td>1Fam</td>\n",
              "      <td>5</td>\n",
              "      <td>1915</td>\n",
              "      <td>1970</td>\n",
              "      <td>Wd Sdng</td>\n",
              "      <td>0.0</td>\n",
              "      <td>756.0</td>\n",
              "      <td>140000.0</td>\n",
              "    </tr>\n",
              "    <tr>\n",
              "      <th>4</th>\n",
              "      <td>4</td>\n",
              "      <td>60</td>\n",
              "      <td>RL</td>\n",
              "      <td>14260</td>\n",
              "      <td>FR2</td>\n",
              "      <td>1Fam</td>\n",
              "      <td>5</td>\n",
              "      <td>2000</td>\n",
              "      <td>2000</td>\n",
              "      <td>VinylSd</td>\n",
              "      <td>0.0</td>\n",
              "      <td>1145.0</td>\n",
              "      <td>250000.0</td>\n",
              "    </tr>\n",
              "  </tbody>\n",
              "</table>\n",
              "</div>\n",
              "    <div class=\"colab-df-buttons\">\n",
              "\n",
              "  <div class=\"colab-df-container\">\n",
              "    <button class=\"colab-df-convert\" onclick=\"convertToInteractive('df-cc7109d1-cd29-4e83-a353-35f663b5705f')\"\n",
              "            title=\"Convert this dataframe to an interactive table.\"\n",
              "            style=\"display:none;\">\n",
              "\n",
              "  <svg xmlns=\"http://www.w3.org/2000/svg\" height=\"24px\" viewBox=\"0 -960 960 960\">\n",
              "    <path d=\"M120-120v-720h720v720H120Zm60-500h600v-160H180v160Zm220 220h160v-160H400v160Zm0 220h160v-160H400v160ZM180-400h160v-160H180v160Zm440 0h160v-160H620v160ZM180-180h160v-160H180v160Zm440 0h160v-160H620v160Z\"/>\n",
              "  </svg>\n",
              "    </button>\n",
              "\n",
              "  <style>\n",
              "    .colab-df-container {\n",
              "      display:flex;\n",
              "      gap: 12px;\n",
              "    }\n",
              "\n",
              "    .colab-df-convert {\n",
              "      background-color: #E8F0FE;\n",
              "      border: none;\n",
              "      border-radius: 50%;\n",
              "      cursor: pointer;\n",
              "      display: none;\n",
              "      fill: #1967D2;\n",
              "      height: 32px;\n",
              "      padding: 0 0 0 0;\n",
              "      width: 32px;\n",
              "    }\n",
              "\n",
              "    .colab-df-convert:hover {\n",
              "      background-color: #E2EBFA;\n",
              "      box-shadow: 0px 1px 2px rgba(60, 64, 67, 0.3), 0px 1px 3px 1px rgba(60, 64, 67, 0.15);\n",
              "      fill: #174EA6;\n",
              "    }\n",
              "\n",
              "    .colab-df-buttons div {\n",
              "      margin-bottom: 4px;\n",
              "    }\n",
              "\n",
              "    [theme=dark] .colab-df-convert {\n",
              "      background-color: #3B4455;\n",
              "      fill: #D2E3FC;\n",
              "    }\n",
              "\n",
              "    [theme=dark] .colab-df-convert:hover {\n",
              "      background-color: #434B5C;\n",
              "      box-shadow: 0px 1px 3px 1px rgba(0, 0, 0, 0.15);\n",
              "      filter: drop-shadow(0px 1px 2px rgba(0, 0, 0, 0.3));\n",
              "      fill: #FFFFFF;\n",
              "    }\n",
              "  </style>\n",
              "\n",
              "    <script>\n",
              "      const buttonEl =\n",
              "        document.querySelector('#df-cc7109d1-cd29-4e83-a353-35f663b5705f button.colab-df-convert');\n",
              "      buttonEl.style.display =\n",
              "        google.colab.kernel.accessAllowed ? 'block' : 'none';\n",
              "\n",
              "      async function convertToInteractive(key) {\n",
              "        const element = document.querySelector('#df-cc7109d1-cd29-4e83-a353-35f663b5705f');\n",
              "        const dataTable =\n",
              "          await google.colab.kernel.invokeFunction('convertToInteractive',\n",
              "                                                    [key], {});\n",
              "        if (!dataTable) return;\n",
              "\n",
              "        const docLinkHtml = 'Like what you see? Visit the ' +\n",
              "          '<a target=\"_blank\" href=https://colab.research.google.com/notebooks/data_table.ipynb>data table notebook</a>'\n",
              "          + ' to learn more about interactive tables.';\n",
              "        element.innerHTML = '';\n",
              "        dataTable['output_type'] = 'display_data';\n",
              "        await google.colab.output.renderOutput(dataTable, element);\n",
              "        const docLink = document.createElement('div');\n",
              "        docLink.innerHTML = docLinkHtml;\n",
              "        element.appendChild(docLink);\n",
              "      }\n",
              "    </script>\n",
              "  </div>\n",
              "\n",
              "\n",
              "<div id=\"df-b1f9294b-c1d4-4cdc-8911-666c51f9caf1\">\n",
              "  <button class=\"colab-df-quickchart\" onclick=\"quickchart('df-b1f9294b-c1d4-4cdc-8911-666c51f9caf1')\"\n",
              "            title=\"Suggest charts\"\n",
              "            style=\"display:none;\">\n",
              "\n",
              "<svg xmlns=\"http://www.w3.org/2000/svg\" height=\"24px\"viewBox=\"0 0 24 24\"\n",
              "     width=\"24px\">\n",
              "    <g>\n",
              "        <path d=\"M19 3H5c-1.1 0-2 .9-2 2v14c0 1.1.9 2 2 2h14c1.1 0 2-.9 2-2V5c0-1.1-.9-2-2-2zM9 17H7v-7h2v7zm4 0h-2V7h2v10zm4 0h-2v-4h2v4z\"/>\n",
              "    </g>\n",
              "</svg>\n",
              "  </button>\n",
              "\n",
              "<style>\n",
              "  .colab-df-quickchart {\n",
              "      --bg-color: #E8F0FE;\n",
              "      --fill-color: #1967D2;\n",
              "      --hover-bg-color: #E2EBFA;\n",
              "      --hover-fill-color: #174EA6;\n",
              "      --disabled-fill-color: #AAA;\n",
              "      --disabled-bg-color: #DDD;\n",
              "  }\n",
              "\n",
              "  [theme=dark] .colab-df-quickchart {\n",
              "      --bg-color: #3B4455;\n",
              "      --fill-color: #D2E3FC;\n",
              "      --hover-bg-color: #434B5C;\n",
              "      --hover-fill-color: #FFFFFF;\n",
              "      --disabled-bg-color: #3B4455;\n",
              "      --disabled-fill-color: #666;\n",
              "  }\n",
              "\n",
              "  .colab-df-quickchart {\n",
              "    background-color: var(--bg-color);\n",
              "    border: none;\n",
              "    border-radius: 50%;\n",
              "    cursor: pointer;\n",
              "    display: none;\n",
              "    fill: var(--fill-color);\n",
              "    height: 32px;\n",
              "    padding: 0;\n",
              "    width: 32px;\n",
              "  }\n",
              "\n",
              "  .colab-df-quickchart:hover {\n",
              "    background-color: var(--hover-bg-color);\n",
              "    box-shadow: 0 1px 2px rgba(60, 64, 67, 0.3), 0 1px 3px 1px rgba(60, 64, 67, 0.15);\n",
              "    fill: var(--button-hover-fill-color);\n",
              "  }\n",
              "\n",
              "  .colab-df-quickchart-complete:disabled,\n",
              "  .colab-df-quickchart-complete:disabled:hover {\n",
              "    background-color: var(--disabled-bg-color);\n",
              "    fill: var(--disabled-fill-color);\n",
              "    box-shadow: none;\n",
              "  }\n",
              "\n",
              "  .colab-df-spinner {\n",
              "    border: 2px solid var(--fill-color);\n",
              "    border-color: transparent;\n",
              "    border-bottom-color: var(--fill-color);\n",
              "    animation:\n",
              "      spin 1s steps(1) infinite;\n",
              "  }\n",
              "\n",
              "  @keyframes spin {\n",
              "    0% {\n",
              "      border-color: transparent;\n",
              "      border-bottom-color: var(--fill-color);\n",
              "      border-left-color: var(--fill-color);\n",
              "    }\n",
              "    20% {\n",
              "      border-color: transparent;\n",
              "      border-left-color: var(--fill-color);\n",
              "      border-top-color: var(--fill-color);\n",
              "    }\n",
              "    30% {\n",
              "      border-color: transparent;\n",
              "      border-left-color: var(--fill-color);\n",
              "      border-top-color: var(--fill-color);\n",
              "      border-right-color: var(--fill-color);\n",
              "    }\n",
              "    40% {\n",
              "      border-color: transparent;\n",
              "      border-right-color: var(--fill-color);\n",
              "      border-top-color: var(--fill-color);\n",
              "    }\n",
              "    60% {\n",
              "      border-color: transparent;\n",
              "      border-right-color: var(--fill-color);\n",
              "    }\n",
              "    80% {\n",
              "      border-color: transparent;\n",
              "      border-right-color: var(--fill-color);\n",
              "      border-bottom-color: var(--fill-color);\n",
              "    }\n",
              "    90% {\n",
              "      border-color: transparent;\n",
              "      border-bottom-color: var(--fill-color);\n",
              "    }\n",
              "  }\n",
              "</style>\n",
              "\n",
              "  <script>\n",
              "    async function quickchart(key) {\n",
              "      const quickchartButtonEl =\n",
              "        document.querySelector('#' + key + ' button');\n",
              "      quickchartButtonEl.disabled = true;  // To prevent multiple clicks.\n",
              "      quickchartButtonEl.classList.add('colab-df-spinner');\n",
              "      try {\n",
              "        const charts = await google.colab.kernel.invokeFunction(\n",
              "            'suggestCharts', [key], {});\n",
              "      } catch (error) {\n",
              "        console.error('Error during call to suggestCharts:', error);\n",
              "      }\n",
              "      quickchartButtonEl.classList.remove('colab-df-spinner');\n",
              "      quickchartButtonEl.classList.add('colab-df-quickchart-complete');\n",
              "    }\n",
              "    (() => {\n",
              "      let quickchartButtonEl =\n",
              "        document.querySelector('#df-b1f9294b-c1d4-4cdc-8911-666c51f9caf1 button');\n",
              "      quickchartButtonEl.style.display =\n",
              "        google.colab.kernel.accessAllowed ? 'block' : 'none';\n",
              "    })();\n",
              "  </script>\n",
              "</div>\n",
              "    </div>\n",
              "  </div>\n"
            ]
          },
          "metadata": {},
          "execution_count": 34
        }
      ],
      "source": [
        "# Displays the first few rows of the DataFrame 'df'\n",
        "df.head()"
      ]
    },
    {
      "cell_type": "code",
      "source": [
        "# Converts a variable named df into a pandas DataFrame named df\n",
        "df=pd.DataFrame(df)"
      ],
      "metadata": {
        "id": "AzQ06plv1omW"
      },
      "id": "AzQ06plv1omW",
      "execution_count": null,
      "outputs": []
    },
    {
      "cell_type": "code",
      "source": [
        "# Using pandas drops rows with missing values in the 'SalePrice' column from the DataFrame 'df' in-place.\n",
        "df.dropna(subset=['SalePrice'], inplace=True)"
      ],
      "metadata": {
        "id": "m6fKS1vGqXGQ"
      },
      "id": "m6fKS1vGqXGQ",
      "execution_count": null,
      "outputs": []
    },
    {
      "cell_type": "code",
      "execution_count": null,
      "id": "b3fbb625",
      "metadata": {
        "colab": {
          "base_uri": "https://localhost:8080/"
        },
        "id": "b3fbb625",
        "outputId": "e6bb07f0-17c6-4963-d195-17b662b3005b"
      },
      "outputs": [
        {
          "output_type": "execute_result",
          "data": {
            "text/plain": [
              "Id              0\n",
              "MSSubClass      0\n",
              "MSZoning        0\n",
              "LotArea         0\n",
              "LotConfig       0\n",
              "BldgType        0\n",
              "OverallCond     0\n",
              "YearBuilt       0\n",
              "YearRemodAdd    0\n",
              "Exterior1st     0\n",
              "BsmtFinSF2      0\n",
              "TotalBsmtSF     0\n",
              "SalePrice       0\n",
              "dtype: int64"
            ]
          },
          "metadata": {},
          "execution_count": 40
        }
      ],
      "source": [
        " # Calculates the sum of null values in each column of a DataFrame named 'df'\n",
        "df.isnull().sum()"
      ]
    },
    {
      "cell_type": "code",
      "execution_count": null,
      "id": "714a5cd8",
      "metadata": {
        "colab": {
          "base_uri": "https://localhost:8080/"
        },
        "id": "714a5cd8",
        "outputId": "6ef807a7-42fd-44f8-c7a0-99e89ff0dc40"
      },
      "outputs": [
        {
          "output_type": "stream",
          "name": "stdout",
          "text": [
            "<class 'pandas.core.frame.DataFrame'>\n",
            "Int64Index: 1460 entries, 0 to 1459\n",
            "Data columns (total 12 columns):\n",
            " #   Column        Non-Null Count  Dtype  \n",
            "---  ------        --------------  -----  \n",
            " 0   MSSubClass    1460 non-null   int64  \n",
            " 1   MSZoning      1460 non-null   object \n",
            " 2   LotArea       1460 non-null   int64  \n",
            " 3   LotConfig     1460 non-null   object \n",
            " 4   BldgType      1460 non-null   object \n",
            " 5   OverallCond   1460 non-null   int64  \n",
            " 6   YearBuilt     1460 non-null   int64  \n",
            " 7   YearRemodAdd  1460 non-null   int64  \n",
            " 8   Exterior1st   1460 non-null   object \n",
            " 9   BsmtFinSF2    1460 non-null   float64\n",
            " 10  TotalBsmtSF   1460 non-null   float64\n",
            " 11  SalePrice     1460 non-null   float64\n",
            "dtypes: float64(3), int64(5), object(4)\n",
            "memory usage: 148.3+ KB\n"
          ]
        }
      ],
      "source": [
        "# Prints information about the DataFrame 'df', including data types, non-null counts, and memory usage\n",
        "df.info()"
      ]
    },
    {
      "cell_type": "code",
      "execution_count": null,
      "id": "023f613b",
      "metadata": {
        "colab": {
          "base_uri": "https://localhost:8080/"
        },
        "id": "023f613b",
        "outputId": "51b8b6e9-14a3-4a51-e0a5-f67081f6706a"
      },
      "outputs": [
        {
          "output_type": "execute_result",
          "data": {
            "text/plain": [
              "MSSubClass      0\n",
              "MSZoning        0\n",
              "LotArea         0\n",
              "LotConfig       0\n",
              "BldgType        0\n",
              "OverallCond     0\n",
              "YearBuilt       0\n",
              "YearRemodAdd    0\n",
              "Exterior1st     0\n",
              "BsmtFinSF2      0\n",
              "TotalBsmtSF     0\n",
              "SalePrice       0\n",
              "dtype: int64"
            ]
          },
          "metadata": {},
          "execution_count": 8
        }
      ],
      "source": [
        " # Calculates the sum of null values in each column of a DataFrame named 'df'\n",
        "df.isnull().sum()"
      ]
    },
    {
      "cell_type": "code",
      "execution_count": null,
      "id": "932764a5",
      "metadata": {
        "id": "932764a5"
      },
      "outputs": [],
      "source": [
        "# Generates an overview of DataFrame 'df' including the number of rows, columns, and column names.\n",
        "data_overview = {\n",
        "    \"Number of Rows\": df.shape[0],\n",
        "    \"Number of Columns\": df.shape[1],\n",
        "    \"Column Names\": df.columns.tolist()\n",
        "}"
      ]
    },
    {
      "cell_type": "code",
      "execution_count": null,
      "id": "85cdfe05",
      "metadata": {
        "id": "85cdfe05"
      },
      "outputs": [],
      "source": [
        "numerical_descriptive_stats = df.describe()\n",
        "\n",
        "# Checking for missing values in the cleaned dataset\n",
        "missing_values_cleaned = df.isnull().sum()\n",
        "missing_values_cleaned = missing_values_cleaned[missing_values_cleaned > 0]"
      ]
    },
    {
      "cell_type": "code",
      "execution_count": null,
      "id": "59956da7",
      "metadata": {
        "colab": {
          "base_uri": "https://localhost:8080/"
        },
        "id": "59956da7",
        "outputId": "34986421-36ac-4dc0-8a70-6ce9cd85197d"
      },
      "outputs": [
        {
          "output_type": "execute_result",
          "data": {
            "text/plain": [
              "{'Number of Rows': 1460,\n",
              " 'Number of Columns': 12,\n",
              " 'Column Names': ['MSSubClass',\n",
              "  'MSZoning',\n",
              "  'LotArea',\n",
              "  'LotConfig',\n",
              "  'BldgType',\n",
              "  'OverallCond',\n",
              "  'YearBuilt',\n",
              "  'YearRemodAdd',\n",
              "  'Exterior1st',\n",
              "  'BsmtFinSF2',\n",
              "  'TotalBsmtSF',\n",
              "  'SalePrice']}"
            ]
          },
          "metadata": {},
          "execution_count": 42
        }
      ],
      "source": [
        "data_overview"
      ]
    },
    {
      "cell_type": "code",
      "execution_count": null,
      "id": "e9b9c4a8",
      "metadata": {
        "colab": {
          "base_uri": "https://localhost:8080/",
          "height": 300
        },
        "id": "e9b9c4a8",
        "outputId": "ea0b6f35-1247-4a81-ff43-cd96c41e415c"
      },
      "outputs": [
        {
          "output_type": "execute_result",
          "data": {
            "text/plain": [
              "        MSSubClass        LotArea  OverallCond    YearBuilt  YearRemodAdd  \\\n",
              "count  1460.000000    1460.000000  1460.000000  1460.000000   1460.000000   \n",
              "mean     56.897260   10516.828082     5.575342  1971.267808   1984.865753   \n",
              "std      42.300571    9981.264932     1.112799    30.202904     20.645407   \n",
              "min      20.000000    1300.000000     1.000000  1872.000000   1950.000000   \n",
              "25%      20.000000    7553.500000     5.000000  1954.000000   1967.000000   \n",
              "50%      50.000000    9478.500000     5.000000  1973.000000   1994.000000   \n",
              "75%      70.000000   11601.500000     6.000000  2000.000000   2004.000000   \n",
              "max     190.000000  215245.000000     9.000000  2010.000000   2010.000000   \n",
              "\n",
              "        BsmtFinSF2  TotalBsmtSF      SalePrice  \n",
              "count  1460.000000  1460.000000    1460.000000  \n",
              "mean     46.549315  1057.429452  180921.195890  \n",
              "std     161.319273   438.705324   79442.502883  \n",
              "min       0.000000     0.000000   34900.000000  \n",
              "25%       0.000000   795.750000  129975.000000  \n",
              "50%       0.000000   991.500000  163000.000000  \n",
              "75%       0.000000  1298.250000  214000.000000  \n",
              "max    1474.000000  6110.000000  755000.000000  "
            ],
            "text/html": [
              "\n",
              "  <div id=\"df-82f3ebfa-324b-4a11-9a2b-18f9c5d41db8\" class=\"colab-df-container\">\n",
              "    <div>\n",
              "<style scoped>\n",
              "    .dataframe tbody tr th:only-of-type {\n",
              "        vertical-align: middle;\n",
              "    }\n",
              "\n",
              "    .dataframe tbody tr th {\n",
              "        vertical-align: top;\n",
              "    }\n",
              "\n",
              "    .dataframe thead th {\n",
              "        text-align: right;\n",
              "    }\n",
              "</style>\n",
              "<table border=\"1\" class=\"dataframe\">\n",
              "  <thead>\n",
              "    <tr style=\"text-align: right;\">\n",
              "      <th></th>\n",
              "      <th>MSSubClass</th>\n",
              "      <th>LotArea</th>\n",
              "      <th>OverallCond</th>\n",
              "      <th>YearBuilt</th>\n",
              "      <th>YearRemodAdd</th>\n",
              "      <th>BsmtFinSF2</th>\n",
              "      <th>TotalBsmtSF</th>\n",
              "      <th>SalePrice</th>\n",
              "    </tr>\n",
              "  </thead>\n",
              "  <tbody>\n",
              "    <tr>\n",
              "      <th>count</th>\n",
              "      <td>1460.000000</td>\n",
              "      <td>1460.000000</td>\n",
              "      <td>1460.000000</td>\n",
              "      <td>1460.000000</td>\n",
              "      <td>1460.000000</td>\n",
              "      <td>1460.000000</td>\n",
              "      <td>1460.000000</td>\n",
              "      <td>1460.000000</td>\n",
              "    </tr>\n",
              "    <tr>\n",
              "      <th>mean</th>\n",
              "      <td>56.897260</td>\n",
              "      <td>10516.828082</td>\n",
              "      <td>5.575342</td>\n",
              "      <td>1971.267808</td>\n",
              "      <td>1984.865753</td>\n",
              "      <td>46.549315</td>\n",
              "      <td>1057.429452</td>\n",
              "      <td>180921.195890</td>\n",
              "    </tr>\n",
              "    <tr>\n",
              "      <th>std</th>\n",
              "      <td>42.300571</td>\n",
              "      <td>9981.264932</td>\n",
              "      <td>1.112799</td>\n",
              "      <td>30.202904</td>\n",
              "      <td>20.645407</td>\n",
              "      <td>161.319273</td>\n",
              "      <td>438.705324</td>\n",
              "      <td>79442.502883</td>\n",
              "    </tr>\n",
              "    <tr>\n",
              "      <th>min</th>\n",
              "      <td>20.000000</td>\n",
              "      <td>1300.000000</td>\n",
              "      <td>1.000000</td>\n",
              "      <td>1872.000000</td>\n",
              "      <td>1950.000000</td>\n",
              "      <td>0.000000</td>\n",
              "      <td>0.000000</td>\n",
              "      <td>34900.000000</td>\n",
              "    </tr>\n",
              "    <tr>\n",
              "      <th>25%</th>\n",
              "      <td>20.000000</td>\n",
              "      <td>7553.500000</td>\n",
              "      <td>5.000000</td>\n",
              "      <td>1954.000000</td>\n",
              "      <td>1967.000000</td>\n",
              "      <td>0.000000</td>\n",
              "      <td>795.750000</td>\n",
              "      <td>129975.000000</td>\n",
              "    </tr>\n",
              "    <tr>\n",
              "      <th>50%</th>\n",
              "      <td>50.000000</td>\n",
              "      <td>9478.500000</td>\n",
              "      <td>5.000000</td>\n",
              "      <td>1973.000000</td>\n",
              "      <td>1994.000000</td>\n",
              "      <td>0.000000</td>\n",
              "      <td>991.500000</td>\n",
              "      <td>163000.000000</td>\n",
              "    </tr>\n",
              "    <tr>\n",
              "      <th>75%</th>\n",
              "      <td>70.000000</td>\n",
              "      <td>11601.500000</td>\n",
              "      <td>6.000000</td>\n",
              "      <td>2000.000000</td>\n",
              "      <td>2004.000000</td>\n",
              "      <td>0.000000</td>\n",
              "      <td>1298.250000</td>\n",
              "      <td>214000.000000</td>\n",
              "    </tr>\n",
              "    <tr>\n",
              "      <th>max</th>\n",
              "      <td>190.000000</td>\n",
              "      <td>215245.000000</td>\n",
              "      <td>9.000000</td>\n",
              "      <td>2010.000000</td>\n",
              "      <td>2010.000000</td>\n",
              "      <td>1474.000000</td>\n",
              "      <td>6110.000000</td>\n",
              "      <td>755000.000000</td>\n",
              "    </tr>\n",
              "  </tbody>\n",
              "</table>\n",
              "</div>\n",
              "    <div class=\"colab-df-buttons\">\n",
              "\n",
              "  <div class=\"colab-df-container\">\n",
              "    <button class=\"colab-df-convert\" onclick=\"convertToInteractive('df-82f3ebfa-324b-4a11-9a2b-18f9c5d41db8')\"\n",
              "            title=\"Convert this dataframe to an interactive table.\"\n",
              "            style=\"display:none;\">\n",
              "\n",
              "  <svg xmlns=\"http://www.w3.org/2000/svg\" height=\"24px\" viewBox=\"0 -960 960 960\">\n",
              "    <path d=\"M120-120v-720h720v720H120Zm60-500h600v-160H180v160Zm220 220h160v-160H400v160Zm0 220h160v-160H400v160ZM180-400h160v-160H180v160Zm440 0h160v-160H620v160ZM180-180h160v-160H180v160Zm440 0h160v-160H620v160Z\"/>\n",
              "  </svg>\n",
              "    </button>\n",
              "\n",
              "  <style>\n",
              "    .colab-df-container {\n",
              "      display:flex;\n",
              "      gap: 12px;\n",
              "    }\n",
              "\n",
              "    .colab-df-convert {\n",
              "      background-color: #E8F0FE;\n",
              "      border: none;\n",
              "      border-radius: 50%;\n",
              "      cursor: pointer;\n",
              "      display: none;\n",
              "      fill: #1967D2;\n",
              "      height: 32px;\n",
              "      padding: 0 0 0 0;\n",
              "      width: 32px;\n",
              "    }\n",
              "\n",
              "    .colab-df-convert:hover {\n",
              "      background-color: #E2EBFA;\n",
              "      box-shadow: 0px 1px 2px rgba(60, 64, 67, 0.3), 0px 1px 3px 1px rgba(60, 64, 67, 0.15);\n",
              "      fill: #174EA6;\n",
              "    }\n",
              "\n",
              "    .colab-df-buttons div {\n",
              "      margin-bottom: 4px;\n",
              "    }\n",
              "\n",
              "    [theme=dark] .colab-df-convert {\n",
              "      background-color: #3B4455;\n",
              "      fill: #D2E3FC;\n",
              "    }\n",
              "\n",
              "    [theme=dark] .colab-df-convert:hover {\n",
              "      background-color: #434B5C;\n",
              "      box-shadow: 0px 1px 3px 1px rgba(0, 0, 0, 0.15);\n",
              "      filter: drop-shadow(0px 1px 2px rgba(0, 0, 0, 0.3));\n",
              "      fill: #FFFFFF;\n",
              "    }\n",
              "  </style>\n",
              "\n",
              "    <script>\n",
              "      const buttonEl =\n",
              "        document.querySelector('#df-82f3ebfa-324b-4a11-9a2b-18f9c5d41db8 button.colab-df-convert');\n",
              "      buttonEl.style.display =\n",
              "        google.colab.kernel.accessAllowed ? 'block' : 'none';\n",
              "\n",
              "      async function convertToInteractive(key) {\n",
              "        const element = document.querySelector('#df-82f3ebfa-324b-4a11-9a2b-18f9c5d41db8');\n",
              "        const dataTable =\n",
              "          await google.colab.kernel.invokeFunction('convertToInteractive',\n",
              "                                                    [key], {});\n",
              "        if (!dataTable) return;\n",
              "\n",
              "        const docLinkHtml = 'Like what you see? Visit the ' +\n",
              "          '<a target=\"_blank\" href=https://colab.research.google.com/notebooks/data_table.ipynb>data table notebook</a>'\n",
              "          + ' to learn more about interactive tables.';\n",
              "        element.innerHTML = '';\n",
              "        dataTable['output_type'] = 'display_data';\n",
              "        await google.colab.output.renderOutput(dataTable, element);\n",
              "        const docLink = document.createElement('div');\n",
              "        docLink.innerHTML = docLinkHtml;\n",
              "        element.appendChild(docLink);\n",
              "      }\n",
              "    </script>\n",
              "  </div>\n",
              "\n",
              "\n",
              "<div id=\"df-49b8b5c7-80dc-4b0b-a494-a1efeddee00e\">\n",
              "  <button class=\"colab-df-quickchart\" onclick=\"quickchart('df-49b8b5c7-80dc-4b0b-a494-a1efeddee00e')\"\n",
              "            title=\"Suggest charts\"\n",
              "            style=\"display:none;\">\n",
              "\n",
              "<svg xmlns=\"http://www.w3.org/2000/svg\" height=\"24px\"viewBox=\"0 0 24 24\"\n",
              "     width=\"24px\">\n",
              "    <g>\n",
              "        <path d=\"M19 3H5c-1.1 0-2 .9-2 2v14c0 1.1.9 2 2 2h14c1.1 0 2-.9 2-2V5c0-1.1-.9-2-2-2zM9 17H7v-7h2v7zm4 0h-2V7h2v10zm4 0h-2v-4h2v4z\"/>\n",
              "    </g>\n",
              "</svg>\n",
              "  </button>\n",
              "\n",
              "<style>\n",
              "  .colab-df-quickchart {\n",
              "      --bg-color: #E8F0FE;\n",
              "      --fill-color: #1967D2;\n",
              "      --hover-bg-color: #E2EBFA;\n",
              "      --hover-fill-color: #174EA6;\n",
              "      --disabled-fill-color: #AAA;\n",
              "      --disabled-bg-color: #DDD;\n",
              "  }\n",
              "\n",
              "  [theme=dark] .colab-df-quickchart {\n",
              "      --bg-color: #3B4455;\n",
              "      --fill-color: #D2E3FC;\n",
              "      --hover-bg-color: #434B5C;\n",
              "      --hover-fill-color: #FFFFFF;\n",
              "      --disabled-bg-color: #3B4455;\n",
              "      --disabled-fill-color: #666;\n",
              "  }\n",
              "\n",
              "  .colab-df-quickchart {\n",
              "    background-color: var(--bg-color);\n",
              "    border: none;\n",
              "    border-radius: 50%;\n",
              "    cursor: pointer;\n",
              "    display: none;\n",
              "    fill: var(--fill-color);\n",
              "    height: 32px;\n",
              "    padding: 0;\n",
              "    width: 32px;\n",
              "  }\n",
              "\n",
              "  .colab-df-quickchart:hover {\n",
              "    background-color: var(--hover-bg-color);\n",
              "    box-shadow: 0 1px 2px rgba(60, 64, 67, 0.3), 0 1px 3px 1px rgba(60, 64, 67, 0.15);\n",
              "    fill: var(--button-hover-fill-color);\n",
              "  }\n",
              "\n",
              "  .colab-df-quickchart-complete:disabled,\n",
              "  .colab-df-quickchart-complete:disabled:hover {\n",
              "    background-color: var(--disabled-bg-color);\n",
              "    fill: var(--disabled-fill-color);\n",
              "    box-shadow: none;\n",
              "  }\n",
              "\n",
              "  .colab-df-spinner {\n",
              "    border: 2px solid var(--fill-color);\n",
              "    border-color: transparent;\n",
              "    border-bottom-color: var(--fill-color);\n",
              "    animation:\n",
              "      spin 1s steps(1) infinite;\n",
              "  }\n",
              "\n",
              "  @keyframes spin {\n",
              "    0% {\n",
              "      border-color: transparent;\n",
              "      border-bottom-color: var(--fill-color);\n",
              "      border-left-color: var(--fill-color);\n",
              "    }\n",
              "    20% {\n",
              "      border-color: transparent;\n",
              "      border-left-color: var(--fill-color);\n",
              "      border-top-color: var(--fill-color);\n",
              "    }\n",
              "    30% {\n",
              "      border-color: transparent;\n",
              "      border-left-color: var(--fill-color);\n",
              "      border-top-color: var(--fill-color);\n",
              "      border-right-color: var(--fill-color);\n",
              "    }\n",
              "    40% {\n",
              "      border-color: transparent;\n",
              "      border-right-color: var(--fill-color);\n",
              "      border-top-color: var(--fill-color);\n",
              "    }\n",
              "    60% {\n",
              "      border-color: transparent;\n",
              "      border-right-color: var(--fill-color);\n",
              "    }\n",
              "    80% {\n",
              "      border-color: transparent;\n",
              "      border-right-color: var(--fill-color);\n",
              "      border-bottom-color: var(--fill-color);\n",
              "    }\n",
              "    90% {\n",
              "      border-color: transparent;\n",
              "      border-bottom-color: var(--fill-color);\n",
              "    }\n",
              "  }\n",
              "</style>\n",
              "\n",
              "  <script>\n",
              "    async function quickchart(key) {\n",
              "      const quickchartButtonEl =\n",
              "        document.querySelector('#' + key + ' button');\n",
              "      quickchartButtonEl.disabled = true;  // To prevent multiple clicks.\n",
              "      quickchartButtonEl.classList.add('colab-df-spinner');\n",
              "      try {\n",
              "        const charts = await google.colab.kernel.invokeFunction(\n",
              "            'suggestCharts', [key], {});\n",
              "      } catch (error) {\n",
              "        console.error('Error during call to suggestCharts:', error);\n",
              "      }\n",
              "      quickchartButtonEl.classList.remove('colab-df-spinner');\n",
              "      quickchartButtonEl.classList.add('colab-df-quickchart-complete');\n",
              "    }\n",
              "    (() => {\n",
              "      let quickchartButtonEl =\n",
              "        document.querySelector('#df-49b8b5c7-80dc-4b0b-a494-a1efeddee00e button');\n",
              "      quickchartButtonEl.style.display =\n",
              "        google.colab.kernel.accessAllowed ? 'block' : 'none';\n",
              "    })();\n",
              "  </script>\n",
              "</div>\n",
              "    </div>\n",
              "  </div>\n"
            ]
          },
          "metadata": {},
          "execution_count": 12
        }
      ],
      "source": [
        "# Calculates numerical descriptive statistics for the dataset\n",
        "numerical_descriptive_stats"
      ]
    },
    {
      "cell_type": "code",
      "execution_count": null,
      "id": "ac0ab0ea",
      "metadata": {
        "colab": {
          "base_uri": "https://localhost:8080/"
        },
        "id": "ac0ab0ea",
        "outputId": "30e075ed-c177-466b-e7b9-75bcc6c6d6cd"
      },
      "outputs": [
        {
          "output_type": "execute_result",
          "data": {
            "text/plain": [
              "Series([], dtype: int64)"
            ]
          },
          "metadata": {},
          "execution_count": 13
        }
      ],
      "source": [
        "# Cleaning of missing values in a dataset\n",
        "missing_values_cleaned"
      ]
    },
    {
      "cell_type": "code",
      "execution_count": null,
      "id": "431fe75b",
      "metadata": {
        "id": "431fe75b"
      },
      "outputs": [],
      "source": [
        "# Creates a list named selected_columns containing the below column names\n",
        "selected_columns = ['OverallCond', 'YearBuilt', 'TotalBsmtSF', 'LotArea']"
      ]
    },
    {
      "cell_type": "markdown",
      "id": "9e4dc705",
      "metadata": {
        "id": "9e4dc705"
      },
      "source": [
        "# Scatterplots"
      ]
    },
    {
      "cell_type": "markdown",
      "id": "6a632ad4",
      "metadata": {
        "id": "6a632ad4"
      },
      "source": [
        "The scatter plots shows the relationships between the selected variables ('OverallCond', 'YearBuilt', 'TotalBsmtSF', and 'LotArea') and the 'SalePrice' in the housing dataset. Below are some observations:"
      ]
    },
    {
      "cell_type": "code",
      "execution_count": null,
      "id": "6f324d87",
      "metadata": {
        "id": "6f324d87"
      },
      "outputs": [],
      "source": [
        "import matplotlib.pyplot as plt\n",
        "import seaborn as sns"
      ]
    },
    {
      "cell_type": "code",
      "execution_count": null,
      "id": "1008aad4",
      "metadata": {
        "colab": {
          "base_uri": "https://localhost:8080/",
          "height": 911
        },
        "id": "1008aad4",
        "outputId": "3444d48e-ae99-40f6-aafa-490739011ad8"
      },
      "outputs": [
        {
          "output_type": "display_data",
          "data": {
            "text/plain": [
              "<Figure size 1200x1000 with 4 Axes>"
            ],
            "image/png": "[encoded data removed]"
          },
          "metadata": {}
        }
      ],
      "source": [
        "fig, axes = plt.subplots(nrows=2, ncols=2, figsize=(12, 10))\n",
        "fig.suptitle('Relationships between Selected Variables and SalePrice')\n",
        "\n",
        "for i, col in enumerate(selected_columns):\n",
        "    sns.scatterplot(data=df, x=col, y='SalePrice', ax=axes[i//2, i%2])\n",
        "\n",
        "plt.tight_layout(rect=[0, 0.03, 1, 0.95])\n",
        "plt.show()"
      ]
    },
    {
      "cell_type": "markdown",
      "id": "7f325ad7",
      "metadata": {
        "id": "7f325ad7"
      },
      "source": [
        "1) OverallCond vs. SalePrice: This plot illustrates how the overall condition of the property relates to its sale price. A trend might be visible, but it's not very pronounced.\n",
        "\n",
        "2) YearBuilt vs. SalePrice: This plot reveals the relationship between the year a property was built and its sale price. Newer properties might be valued higher, but this requires a closer look.\n",
        "\n",
        "3) TotalBsmtSF vs. SalePrice: This plot displays the relationship between the total square footage of the basement area and the sale price. Generally, a larger basement area might correlate with higher prices.\n",
        "\n",
        "4) LotArea vs. SalePrice: This plot shows how the lot area of the property correlates with its sale price. Larger lot areas might be associated with higher prices, but there are outliers."
      ]
    },
    {
      "cell_type": "markdown",
      "id": "9df717d9",
      "metadata": {
        "id": "9df717d9"
      },
      "source": [
        "# Histograms"
      ]
    },
    {
      "cell_type": "markdown",
      "id": "2b38cd51",
      "metadata": {
        "id": "2b38cd51"
      },
      "source": [
        "The histograms above display the distribution of the selected variables ('OverallCond', 'YearBuilt', 'TotalBsmtSF', 'LotArea') along with the target variable 'SalePrice'."
      ]
    },
    {
      "cell_type": "code",
      "execution_count": null,
      "id": "19a354d4",
      "metadata": {
        "colab": {
          "base_uri": "https://localhost:8080/",
          "height": 731
        },
        "id": "19a354d4",
        "outputId": "e5574311-30b6-4edc-e135-7caf6bb7b06d"
      },
      "outputs": [
        {
          "output_type": "display_data",
          "data": {
            "text/plain": [
              "<Figure size 1500x1000 with 6 Axes>"
            ],
            "image/png": "[encoded data removed]"
          },
          "metadata": {}
        }
      ],
      "source": [
        "fig, axes = plt.subplots(nrows=2, ncols=3, figsize=(15, 10))\n",
        "fig.suptitle('Histograms for Skewness Check')\n",
        "\n",
        "# Adding 'SalePrice' to the list of selected columns for the histogram\n",
        "selected_columns_with_target = selected_columns + ['SalePrice']\n",
        "\n",
        "for i, col in enumerate(selected_columns_with_target):\n",
        "    sns.histplot(df[col], kde=True, ax=axes[i//3, i%3])\n",
        "    axes[i//3, i%3].set_title(f'Histogram of {col}')\n",
        "\n",
        "plt.tight_layout(rect=[0, 0.03, 1, 0.95])\n",
        "plt.show()"
      ]
    },
    {
      "cell_type": "markdown",
      "id": "2320ac8a",
      "metadata": {
        "id": "2320ac8a"
      },
      "source": [
        "1) OverallCond: The distribution seems to be skewed towards higher values, indicating that most properties have a higher overall condition rating.\n",
        "\n",
        "2) YearBuilt: The distribution shows that more properties were built in recent years. The histogram is left-skewed, indicating a concentration of newer properties.\n",
        "\n",
        "3) TotalBsmtSF: The basement square footage appears right-skewed, with a concentration of properties having smaller basement areas and a few with very large basements.\n",
        "\n",
        "4) LotArea: This variable is also right-skewed, showing that most properties have smaller lot areas with a few outliers having very large areas.\n",
        "\n",
        "5) SalePrice: The target variable 'SalePrice' is right-skewed, indicating that most properties fall into lower price brackets with fewer properties in higher price ranges."
      ]
    },
    {
      "cell_type": "code",
      "execution_count": null,
      "id": "ed85faf0",
      "metadata": {
        "id": "ed85faf0",
        "outputId": "a35494e4-9315-45d2-a521-0a88ef3c0059"
      },
      "outputs": [
        {
          "data": {
            "text/plain": [
              "['LotArea',\n",
              " 'YearBuilt',\n",
              " 'YearRemodAdd',\n",
              " 'BsmtFinSF2',\n",
              " 'TotalBsmtSF',\n",
              " 'SalePrice']"
            ]
          },
          "execution_count": 18,
          "metadata": {},
          "output_type": "execute_result"
        }
      ],
      "source": [
        "# Categorizes DataFrame columns into continuous, discrete count, and discrete categorical variables based on their data types and unique values\n",
        "continuous_vars = []\n",
        "discrete_categorical_vars = []\n",
        "discrete_count_vars = []\n",
        "\n",
        "for column in df.columns:\n",
        "    # Check if the column is categorical\n",
        "    if df[column].dtype == 'object':\n",
        "        discrete_categorical_vars.append(column)\n",
        "    else:\n",
        "        # Check if the column is a discrete count variable\n",
        "        if len(df[column].unique()) < 20:  # Using 20 as a threshold for discrete counts\n",
        "            discrete_count_vars.append(column)\n",
        "        else:\n",
        "            continuous_vars.append(column)\n",
        "\n",
        "# Display the categorized variables\n",
        "continuous_vars"
      ]
    },
    {
      "cell_type": "code",
      "execution_count": null,
      "id": "93a202c9",
      "metadata": {
        "id": "93a202c9",
        "outputId": "1eec8ffe-1dfe-4772-d40e-3d311a62de02"
      },
      "outputs": [
        {
          "data": {
            "text/plain": [
              "['MSZoning', 'LotConfig', 'BldgType', 'Exterior1st']"
            ]
          },
          "execution_count": 19,
          "metadata": {},
          "output_type": "execute_result"
        }
      ],
      "source": [
        "discrete_categorical_vars"
      ]
    },
    {
      "cell_type": "code",
      "execution_count": null,
      "id": "a636537c",
      "metadata": {
        "id": "a636537c",
        "outputId": "ea3e83e0-3e5a-48a2-988d-7a7c4e2c49eb"
      },
      "outputs": [
        {
          "data": {
            "text/plain": [
              "['MSSubClass', 'OverallCond']"
            ]
          },
          "execution_count": 20,
          "metadata": {},
          "output_type": "execute_result"
        }
      ],
      "source": [
        "# Likely represents a collection of discrete categorical variables\n",
        "discrete_count_vars"
      ]
    },
    {
      "cell_type": "code",
      "execution_count": null,
      "id": "d0f0f95e",
      "metadata": {
        "id": "d0f0f95e",
        "outputId": "8f740d02-45b6-4782-ccd0-a37aeeffe678"
      },
      "outputs": [
        {
          "data": {
            "text/html": [
              "<div>\n",
              "<style scoped>\n",
              "    .dataframe tbody tr th:only-of-type {\n",
              "        vertical-align: middle;\n",
              "    }\n",
              "\n",
              "    .dataframe tbody tr th {\n",
              "        vertical-align: top;\n",
              "    }\n",
              "\n",
              "    .dataframe thead th {\n",
              "        text-align: right;\n",
              "    }\n",
              "</style>\n",
              "<table border=\"1\" class=\"dataframe\">\n",
              "  <thead>\n",
              "    <tr style=\"text-align: right;\">\n",
              "      <th></th>\n",
              "      <th>MSSubClass</th>\n",
              "      <th>MSZoning</th>\n",
              "      <th>LotArea</th>\n",
              "      <th>LotConfig</th>\n",
              "      <th>BldgType</th>\n",
              "      <th>OverallCond</th>\n",
              "      <th>YearBuilt</th>\n",
              "      <th>YearRemodAdd</th>\n",
              "      <th>Exterior1st</th>\n",
              "      <th>BsmtFinSF2</th>\n",
              "      <th>TotalBsmtSF</th>\n",
              "      <th>SalePrice</th>\n",
              "    </tr>\n",
              "  </thead>\n",
              "  <tbody>\n",
              "    <tr>\n",
              "      <th>0</th>\n",
              "      <td>60</td>\n",
              "      <td>RL</td>\n",
              "      <td>8450</td>\n",
              "      <td>Inside</td>\n",
              "      <td>1Fam</td>\n",
              "      <td>5</td>\n",
              "      <td>2003</td>\n",
              "      <td>2003</td>\n",
              "      <td>VinylSd</td>\n",
              "      <td>0.0</td>\n",
              "      <td>856.0</td>\n",
              "      <td>208500.0</td>\n",
              "    </tr>\n",
              "    <tr>\n",
              "      <th>1</th>\n",
              "      <td>20</td>\n",
              "      <td>RL</td>\n",
              "      <td>9600</td>\n",
              "      <td>FR2</td>\n",
              "      <td>1Fam</td>\n",
              "      <td>8</td>\n",
              "      <td>1976</td>\n",
              "      <td>1976</td>\n",
              "      <td>MetalSd</td>\n",
              "      <td>0.0</td>\n",
              "      <td>1262.0</td>\n",
              "      <td>181500.0</td>\n",
              "    </tr>\n",
              "    <tr>\n",
              "      <th>2</th>\n",
              "      <td>60</td>\n",
              "      <td>RL</td>\n",
              "      <td>11250</td>\n",
              "      <td>Inside</td>\n",
              "      <td>1Fam</td>\n",
              "      <td>5</td>\n",
              "      <td>2001</td>\n",
              "      <td>2002</td>\n",
              "      <td>VinylSd</td>\n",
              "      <td>0.0</td>\n",
              "      <td>920.0</td>\n",
              "      <td>223500.0</td>\n",
              "    </tr>\n",
              "    <tr>\n",
              "      <th>3</th>\n",
              "      <td>70</td>\n",
              "      <td>RL</td>\n",
              "      <td>9550</td>\n",
              "      <td>Corner</td>\n",
              "      <td>1Fam</td>\n",
              "      <td>5</td>\n",
              "      <td>1915</td>\n",
              "      <td>1970</td>\n",
              "      <td>Wd Sdng</td>\n",
              "      <td>0.0</td>\n",
              "      <td>756.0</td>\n",
              "      <td>140000.0</td>\n",
              "    </tr>\n",
              "    <tr>\n",
              "      <th>4</th>\n",
              "      <td>60</td>\n",
              "      <td>RL</td>\n",
              "      <td>14260</td>\n",
              "      <td>FR2</td>\n",
              "      <td>1Fam</td>\n",
              "      <td>5</td>\n",
              "      <td>2000</td>\n",
              "      <td>2000</td>\n",
              "      <td>VinylSd</td>\n",
              "      <td>0.0</td>\n",
              "      <td>1145.0</td>\n",
              "      <td>250000.0</td>\n",
              "    </tr>\n",
              "  </tbody>\n",
              "</table>\n",
              "</div>"
            ],
            "text/plain": [
              "   MSSubClass MSZoning  LotArea LotConfig BldgType  OverallCond  YearBuilt  \\\n",
              "0          60       RL     8450    Inside     1Fam            5       2003   \n",
              "1          20       RL     9600       FR2     1Fam            8       1976   \n",
              "2          60       RL    11250    Inside     1Fam            5       2001   \n",
              "3          70       RL     9550    Corner     1Fam            5       1915   \n",
              "4          60       RL    14260       FR2     1Fam            5       2000   \n",
              "\n",
              "   YearRemodAdd Exterior1st  BsmtFinSF2  TotalBsmtSF  SalePrice  \n",
              "0          2003     VinylSd         0.0        856.0   208500.0  \n",
              "1          1976     MetalSd         0.0       1262.0   181500.0  \n",
              "2          2002     VinylSd         0.0        920.0   223500.0  \n",
              "3          1970     Wd Sdng         0.0        756.0   140000.0  \n",
              "4          2000     VinylSd         0.0       1145.0   250000.0  "
            ]
          },
          "execution_count": 21,
          "metadata": {},
          "output_type": "execute_result"
        }
      ],
      "source": [
        "df.head()"
      ]
    },
    {
      "cell_type": "code",
      "execution_count": null,
      "id": "87dae1ea",
      "metadata": {
        "id": "87dae1ea",
        "outputId": "41ccc15e-68ac-4eea-deb9-a3eb1a88e623"
      },
      "outputs": [
        {
          "data": {
            "text/plain": [
              "LotArea         12.207688\n",
              "YearBuilt       -0.613461\n",
              "YearRemodAdd    -0.503562\n",
              "BsmtFinSF2       4.255261\n",
              "TotalBsmtSF      1.524255\n",
              "SalePrice        1.882876\n",
              "dtype: float64"
            ]
          },
          "execution_count": 22,
          "metadata": {},
          "output_type": "execute_result"
        }
      ],
      "source": [
        "skewness_continuous_vars = df[continuous_vars].skew()\n",
        "skewness_continuous_vars"
      ]
    },
    {
      "cell_type": "code",
      "execution_count": null,
      "id": "f5994f52",
      "metadata": {
        "id": "f5994f52"
      },
      "outputs": [],
      "source": [
        "import numpy as np"
      ]
    },
    {
      "cell_type": "code",
      "execution_count": null,
      "id": "4b638645",
      "metadata": {
        "id": "4b638645"
      },
      "outputs": [],
      "source": [
        "df['SalePrice'] = np.log(df['SalePrice'])"
      ]
    },
    {
      "cell_type": "code",
      "execution_count": null,
      "id": "b4ad3228",
      "metadata": {
        "id": "b4ad3228",
        "outputId": "76cf2a84-af92-496c-9081-fe58c35a7aac"
      },
      "outputs": [
        {
          "data": {
            "text/plain": [
              "0.12133506220520406"
            ]
          },
          "execution_count": 25,
          "metadata": {},
          "output_type": "execute_result"
        }
      ],
      "source": [
        "df['SalePrice'].skew()"
      ]
    },
    {
      "cell_type": "code",
      "execution_count": null,
      "id": "f0023597",
      "metadata": {
        "id": "f0023597",
        "outputId": "cfda620f-acdc-413a-d634-b83c35a2fda2"
      },
      "outputs": [
        {
          "data": {
            "text/html": [
              "<div>\n",
              "<style scoped>\n",
              "    .dataframe tbody tr th:only-of-type {\n",
              "        vertical-align: middle;\n",
              "    }\n",
              "\n",
              "    .dataframe tbody tr th {\n",
              "        vertical-align: top;\n",
              "    }\n",
              "\n",
              "    .dataframe thead th {\n",
              "        text-align: right;\n",
              "    }\n",
              "</style>\n",
              "<table border=\"1\" class=\"dataframe\">\n",
              "  <thead>\n",
              "    <tr style=\"text-align: right;\">\n",
              "      <th></th>\n",
              "      <th>MSSubClass</th>\n",
              "      <th>MSZoning</th>\n",
              "      <th>LotArea</th>\n",
              "      <th>LotConfig</th>\n",
              "      <th>BldgType</th>\n",
              "      <th>OverallCond</th>\n",
              "      <th>YearBuilt</th>\n",
              "      <th>YearRemodAdd</th>\n",
              "      <th>Exterior1st</th>\n",
              "      <th>BsmtFinSF2</th>\n",
              "      <th>TotalBsmtSF</th>\n",
              "      <th>SalePrice</th>\n",
              "    </tr>\n",
              "  </thead>\n",
              "  <tbody>\n",
              "    <tr>\n",
              "      <th>0</th>\n",
              "      <td>60</td>\n",
              "      <td>RL</td>\n",
              "      <td>8450</td>\n",
              "      <td>Inside</td>\n",
              "      <td>1Fam</td>\n",
              "      <td>5</td>\n",
              "      <td>2003</td>\n",
              "      <td>2003</td>\n",
              "      <td>VinylSd</td>\n",
              "      <td>0.0</td>\n",
              "      <td>856.0</td>\n",
              "      <td>12.247694</td>\n",
              "    </tr>\n",
              "    <tr>\n",
              "      <th>1</th>\n",
              "      <td>20</td>\n",
              "      <td>RL</td>\n",
              "      <td>9600</td>\n",
              "      <td>FR2</td>\n",
              "      <td>1Fam</td>\n",
              "      <td>8</td>\n",
              "      <td>1976</td>\n",
              "      <td>1976</td>\n",
              "      <td>MetalSd</td>\n",
              "      <td>0.0</td>\n",
              "      <td>1262.0</td>\n",
              "      <td>12.109011</td>\n",
              "    </tr>\n",
              "    <tr>\n",
              "      <th>2</th>\n",
              "      <td>60</td>\n",
              "      <td>RL</td>\n",
              "      <td>11250</td>\n",
              "      <td>Inside</td>\n",
              "      <td>1Fam</td>\n",
              "      <td>5</td>\n",
              "      <td>2001</td>\n",
              "      <td>2002</td>\n",
              "      <td>VinylSd</td>\n",
              "      <td>0.0</td>\n",
              "      <td>920.0</td>\n",
              "      <td>12.317167</td>\n",
              "    </tr>\n",
              "    <tr>\n",
              "      <th>3</th>\n",
              "      <td>70</td>\n",
              "      <td>RL</td>\n",
              "      <td>9550</td>\n",
              "      <td>Corner</td>\n",
              "      <td>1Fam</td>\n",
              "      <td>5</td>\n",
              "      <td>1915</td>\n",
              "      <td>1970</td>\n",
              "      <td>Wd Sdng</td>\n",
              "      <td>0.0</td>\n",
              "      <td>756.0</td>\n",
              "      <td>11.849398</td>\n",
              "    </tr>\n",
              "    <tr>\n",
              "      <th>4</th>\n",
              "      <td>60</td>\n",
              "      <td>RL</td>\n",
              "      <td>14260</td>\n",
              "      <td>FR2</td>\n",
              "      <td>1Fam</td>\n",
              "      <td>5</td>\n",
              "      <td>2000</td>\n",
              "      <td>2000</td>\n",
              "      <td>VinylSd</td>\n",
              "      <td>0.0</td>\n",
              "      <td>1145.0</td>\n",
              "      <td>12.429216</td>\n",
              "    </tr>\n",
              "  </tbody>\n",
              "</table>\n",
              "</div>"
            ],
            "text/plain": [
              "   MSSubClass MSZoning  LotArea LotConfig BldgType  OverallCond  YearBuilt  \\\n",
              "0          60       RL     8450    Inside     1Fam            5       2003   \n",
              "1          20       RL     9600       FR2     1Fam            8       1976   \n",
              "2          60       RL    11250    Inside     1Fam            5       2001   \n",
              "3          70       RL     9550    Corner     1Fam            5       1915   \n",
              "4          60       RL    14260       FR2     1Fam            5       2000   \n",
              "\n",
              "   YearRemodAdd Exterior1st  BsmtFinSF2  TotalBsmtSF  SalePrice  \n",
              "0          2003     VinylSd         0.0        856.0  12.247694  \n",
              "1          1976     MetalSd         0.0       1262.0  12.109011  \n",
              "2          2002     VinylSd         0.0        920.0  12.317167  \n",
              "3          1970     Wd Sdng         0.0        756.0  11.849398  \n",
              "4          2000     VinylSd         0.0       1145.0  12.429216  "
            ]
          },
          "execution_count": 26,
          "metadata": {},
          "output_type": "execute_result"
        }
      ],
      "source": [
        "df.head()"
      ]
    },
    {
      "cell_type": "code",
      "execution_count": null,
      "id": "37ee1c3d",
      "metadata": {
        "id": "37ee1c3d"
      },
      "outputs": [],
      "source": [
        "# Uses the boxcox function from the scipy.stats module to perform a Box-Cox transformation on the 'TotalBsmtSF' column in the DataFrame df, storing the transformed values in a new column 'TotalBsmtSF_Boxcox' and capturing the optimal lambda parameter in the variable fitted_lambda\n",
        "from scipy import stats\n",
        "\n",
        "# Apply the Box-Cox transformation\n",
        "df['TotalBsmtSF_Boxcox'], fitted_lambda = stats.boxcox(df['TotalBsmtSF']+0.00001)"
      ]
    },
    {
      "cell_type": "code",
      "execution_count": null,
      "id": "0e5ae611",
      "metadata": {
        "id": "0e5ae611",
        "outputId": "2e2153f4-9d35-4ec1-e260-8a292aea6e86"
      },
      "outputs": [
        {
          "data": {
            "text/plain": [
              "-0.5744891687613115"
            ]
          },
          "execution_count": 28,
          "metadata": {},
          "output_type": "execute_result"
        }
      ],
      "source": [
        "# Calculating the skewness of the 'TotalBsmtSF_Boxcox' column using Box-Cox transformed data with the scipy.stats module\n",
        "df['TotalBsmtSF_Boxcox'].skew()"
      ]
    },
    {
      "cell_type": "code",
      "execution_count": null,
      "id": "0380014b",
      "metadata": {
        "id": "0380014b"
      },
      "outputs": [],
      "source": [
        "df.drop('TotalBsmtSF_Boxcox', axis=1, inplace=True)"
      ]
    },
    {
      "cell_type": "code",
      "execution_count": null,
      "id": "03c1dc28",
      "metadata": {
        "id": "03c1dc28",
        "outputId": "a6c63f9c-c6fe-4916-aadc-e8fa0e30f498"
      },
      "outputs": [
        {
          "data": {
            "text/html": [
              "<div>\n",
              "<style scoped>\n",
              "    .dataframe tbody tr th:only-of-type {\n",
              "        vertical-align: middle;\n",
              "    }\n",
              "\n",
              "    .dataframe tbody tr th {\n",
              "        vertical-align: top;\n",
              "    }\n",
              "\n",
              "    .dataframe thead th {\n",
              "        text-align: right;\n",
              "    }\n",
              "</style>\n",
              "<table border=\"1\" class=\"dataframe\">\n",
              "  <thead>\n",
              "    <tr style=\"text-align: right;\">\n",
              "      <th></th>\n",
              "      <th>MSSubClass</th>\n",
              "      <th>MSZoning</th>\n",
              "      <th>LotArea</th>\n",
              "      <th>LotConfig</th>\n",
              "      <th>BldgType</th>\n",
              "      <th>OverallCond</th>\n",
              "      <th>YearBuilt</th>\n",
              "      <th>YearRemodAdd</th>\n",
              "      <th>Exterior1st</th>\n",
              "      <th>BsmtFinSF2</th>\n",
              "      <th>TotalBsmtSF</th>\n",
              "      <th>SalePrice</th>\n",
              "    </tr>\n",
              "  </thead>\n",
              "  <tbody>\n",
              "    <tr>\n",
              "      <th>0</th>\n",
              "      <td>60</td>\n",
              "      <td>RL</td>\n",
              "      <td>8450</td>\n",
              "      <td>Inside</td>\n",
              "      <td>1Fam</td>\n",
              "      <td>5</td>\n",
              "      <td>2003</td>\n",
              "      <td>2003</td>\n",
              "      <td>VinylSd</td>\n",
              "      <td>0.0</td>\n",
              "      <td>856.0</td>\n",
              "      <td>12.247694</td>\n",
              "    </tr>\n",
              "    <tr>\n",
              "      <th>1</th>\n",
              "      <td>20</td>\n",
              "      <td>RL</td>\n",
              "      <td>9600</td>\n",
              "      <td>FR2</td>\n",
              "      <td>1Fam</td>\n",
              "      <td>8</td>\n",
              "      <td>1976</td>\n",
              "      <td>1976</td>\n",
              "      <td>MetalSd</td>\n",
              "      <td>0.0</td>\n",
              "      <td>1262.0</td>\n",
              "      <td>12.109011</td>\n",
              "    </tr>\n",
              "    <tr>\n",
              "      <th>2</th>\n",
              "      <td>60</td>\n",
              "      <td>RL</td>\n",
              "      <td>11250</td>\n",
              "      <td>Inside</td>\n",
              "      <td>1Fam</td>\n",
              "      <td>5</td>\n",
              "      <td>2001</td>\n",
              "      <td>2002</td>\n",
              "      <td>VinylSd</td>\n",
              "      <td>0.0</td>\n",
              "      <td>920.0</td>\n",
              "      <td>12.317167</td>\n",
              "    </tr>\n",
              "    <tr>\n",
              "      <th>3</th>\n",
              "      <td>70</td>\n",
              "      <td>RL</td>\n",
              "      <td>9550</td>\n",
              "      <td>Corner</td>\n",
              "      <td>1Fam</td>\n",
              "      <td>5</td>\n",
              "      <td>1915</td>\n",
              "      <td>1970</td>\n",
              "      <td>Wd Sdng</td>\n",
              "      <td>0.0</td>\n",
              "      <td>756.0</td>\n",
              "      <td>11.849398</td>\n",
              "    </tr>\n",
              "    <tr>\n",
              "      <th>4</th>\n",
              "      <td>60</td>\n",
              "      <td>RL</td>\n",
              "      <td>14260</td>\n",
              "      <td>FR2</td>\n",
              "      <td>1Fam</td>\n",
              "      <td>5</td>\n",
              "      <td>2000</td>\n",
              "      <td>2000</td>\n",
              "      <td>VinylSd</td>\n",
              "      <td>0.0</td>\n",
              "      <td>1145.0</td>\n",
              "      <td>12.429216</td>\n",
              "    </tr>\n",
              "  </tbody>\n",
              "</table>\n",
              "</div>"
            ],
            "text/plain": [
              "   MSSubClass MSZoning  LotArea LotConfig BldgType  OverallCond  YearBuilt  \\\n",
              "0          60       RL     8450    Inside     1Fam            5       2003   \n",
              "1          20       RL     9600       FR2     1Fam            8       1976   \n",
              "2          60       RL    11250    Inside     1Fam            5       2001   \n",
              "3          70       RL     9550    Corner     1Fam            5       1915   \n",
              "4          60       RL    14260       FR2     1Fam            5       2000   \n",
              "\n",
              "   YearRemodAdd Exterior1st  BsmtFinSF2  TotalBsmtSF  SalePrice  \n",
              "0          2003     VinylSd         0.0        856.0  12.247694  \n",
              "1          1976     MetalSd         0.0       1262.0  12.109011  \n",
              "2          2002     VinylSd         0.0        920.0  12.317167  \n",
              "3          1970     Wd Sdng         0.0        756.0  11.849398  \n",
              "4          2000     VinylSd         0.0       1145.0  12.429216  "
            ]
          },
          "execution_count": 30,
          "metadata": {},
          "output_type": "execute_result"
        }
      ],
      "source": [
        "df.head()"
      ]
    },
    {
      "cell_type": "code",
      "execution_count": null,
      "id": "35b09351",
      "metadata": {
        "id": "35b09351"
      },
      "outputs": [],
      "source": [
        "# Performs logarithmic transformation on the 'TotalBsmtSF' column in the DataFrame 'df', addressing potential zero values by adding a small constant (0.0001) before taking the logarithm\n",
        "df['TotalBsmtSF1'] = np.log(df['TotalBsmtSF']+0.0001)"
      ]
    },
    {
      "cell_type": "code",
      "execution_count": null,
      "id": "0820fa62",
      "metadata": {
        "id": "0820fa62",
        "outputId": "8e71245d-23e0-40ad-8e46-3ae7cbc4befa"
      },
      "outputs": [
        {
          "data": {
            "text/plain": [
              "-5.862964963673812"
            ]
          },
          "execution_count": 32,
          "metadata": {},
          "output_type": "execute_result"
        }
      ],
      "source": [
        "df['TotalBsmtSF1'].skew()"
      ]
    },
    {
      "cell_type": "code",
      "execution_count": null,
      "id": "45e5c58e",
      "metadata": {
        "id": "45e5c58e"
      },
      "outputs": [],
      "source": [
        "df.drop('TotalBsmtSF1', axis=1, inplace=True)"
      ]
    },
    {
      "cell_type": "code",
      "execution_count": null,
      "id": "dea72b8a",
      "metadata": {
        "id": "dea72b8a",
        "outputId": "2ed9bb87-828e-49b6-ff48-4c974faba9f8"
      },
      "outputs": [
        {
          "data": {
            "text/html": [
              "<div>\n",
              "<style scoped>\n",
              "    .dataframe tbody tr th:only-of-type {\n",
              "        vertical-align: middle;\n",
              "    }\n",
              "\n",
              "    .dataframe tbody tr th {\n",
              "        vertical-align: top;\n",
              "    }\n",
              "\n",
              "    .dataframe thead th {\n",
              "        text-align: right;\n",
              "    }\n",
              "</style>\n",
              "<table border=\"1\" class=\"dataframe\">\n",
              "  <thead>\n",
              "    <tr style=\"text-align: right;\">\n",
              "      <th></th>\n",
              "      <th>MSSubClass</th>\n",
              "      <th>MSZoning</th>\n",
              "      <th>LotArea</th>\n",
              "      <th>LotConfig</th>\n",
              "      <th>BldgType</th>\n",
              "      <th>OverallCond</th>\n",
              "      <th>YearBuilt</th>\n",
              "      <th>YearRemodAdd</th>\n",
              "      <th>Exterior1st</th>\n",
              "      <th>BsmtFinSF2</th>\n",
              "      <th>TotalBsmtSF</th>\n",
              "      <th>SalePrice</th>\n",
              "    </tr>\n",
              "  </thead>\n",
              "  <tbody>\n",
              "    <tr>\n",
              "      <th>0</th>\n",
              "      <td>60</td>\n",
              "      <td>RL</td>\n",
              "      <td>8450</td>\n",
              "      <td>Inside</td>\n",
              "      <td>1Fam</td>\n",
              "      <td>5</td>\n",
              "      <td>2003</td>\n",
              "      <td>2003</td>\n",
              "      <td>VinylSd</td>\n",
              "      <td>0.0</td>\n",
              "      <td>856.0</td>\n",
              "      <td>12.247694</td>\n",
              "    </tr>\n",
              "    <tr>\n",
              "      <th>1</th>\n",
              "      <td>20</td>\n",
              "      <td>RL</td>\n",
              "      <td>9600</td>\n",
              "      <td>FR2</td>\n",
              "      <td>1Fam</td>\n",
              "      <td>8</td>\n",
              "      <td>1976</td>\n",
              "      <td>1976</td>\n",
              "      <td>MetalSd</td>\n",
              "      <td>0.0</td>\n",
              "      <td>1262.0</td>\n",
              "      <td>12.109011</td>\n",
              "    </tr>\n",
              "    <tr>\n",
              "      <th>2</th>\n",
              "      <td>60</td>\n",
              "      <td>RL</td>\n",
              "      <td>11250</td>\n",
              "      <td>Inside</td>\n",
              "      <td>1Fam</td>\n",
              "      <td>5</td>\n",
              "      <td>2001</td>\n",
              "      <td>2002</td>\n",
              "      <td>VinylSd</td>\n",
              "      <td>0.0</td>\n",
              "      <td>920.0</td>\n",
              "      <td>12.317167</td>\n",
              "    </tr>\n",
              "    <tr>\n",
              "      <th>3</th>\n",
              "      <td>70</td>\n",
              "      <td>RL</td>\n",
              "      <td>9550</td>\n",
              "      <td>Corner</td>\n",
              "      <td>1Fam</td>\n",
              "      <td>5</td>\n",
              "      <td>1915</td>\n",
              "      <td>1970</td>\n",
              "      <td>Wd Sdng</td>\n",
              "      <td>0.0</td>\n",
              "      <td>756.0</td>\n",
              "      <td>11.849398</td>\n",
              "    </tr>\n",
              "    <tr>\n",
              "      <th>4</th>\n",
              "      <td>60</td>\n",
              "      <td>RL</td>\n",
              "      <td>14260</td>\n",
              "      <td>FR2</td>\n",
              "      <td>1Fam</td>\n",
              "      <td>5</td>\n",
              "      <td>2000</td>\n",
              "      <td>2000</td>\n",
              "      <td>VinylSd</td>\n",
              "      <td>0.0</td>\n",
              "      <td>1145.0</td>\n",
              "      <td>12.429216</td>\n",
              "    </tr>\n",
              "  </tbody>\n",
              "</table>\n",
              "</div>"
            ],
            "text/plain": [
              "   MSSubClass MSZoning  LotArea LotConfig BldgType  OverallCond  YearBuilt  \\\n",
              "0          60       RL     8450    Inside     1Fam            5       2003   \n",
              "1          20       RL     9600       FR2     1Fam            8       1976   \n",
              "2          60       RL    11250    Inside     1Fam            5       2001   \n",
              "3          70       RL     9550    Corner     1Fam            5       1915   \n",
              "4          60       RL    14260       FR2     1Fam            5       2000   \n",
              "\n",
              "   YearRemodAdd Exterior1st  BsmtFinSF2  TotalBsmtSF  SalePrice  \n",
              "0          2003     VinylSd         0.0        856.0  12.247694  \n",
              "1          1976     MetalSd         0.0       1262.0  12.109011  \n",
              "2          2002     VinylSd         0.0        920.0  12.317167  \n",
              "3          1970     Wd Sdng         0.0        756.0  11.849398  \n",
              "4          2000     VinylSd         0.0       1145.0  12.429216  "
            ]
          },
          "execution_count": 34,
          "metadata": {},
          "output_type": "execute_result"
        }
      ],
      "source": [
        "df.head()"
      ]
    },
    {
      "cell_type": "code",
      "execution_count": null,
      "id": "87ba032c",
      "metadata": {
        "id": "87ba032c"
      },
      "outputs": [],
      "source": [
        "from scipy import stats\n",
        "\n",
        "# Apply the Box-Cox transformation\n",
        "df['BsmtFinSF2_BoxCox'], fitted_lambda = stats.boxcox(df['BsmtFinSF2'] + 0.001)"
      ]
    },
    {
      "cell_type": "code",
      "execution_count": null,
      "id": "7ae7ad85",
      "metadata": {
        "id": "7ae7ad85",
        "outputId": "2598faed-9d7c-4c05-aee8-b167d408fc07"
      },
      "outputs": [
        {
          "data": {
            "text/plain": [
              "2.425646223808072"
            ]
          },
          "execution_count": 36,
          "metadata": {},
          "output_type": "execute_result"
        }
      ],
      "source": [
        "df['BsmtFinSF2_BoxCox'].skew()"
      ]
    },
    {
      "cell_type": "code",
      "execution_count": null,
      "id": "c74e3d10",
      "metadata": {
        "id": "c74e3d10"
      },
      "outputs": [],
      "source": [
        "df['LotArea_boxcox'], fitted_lambda = stats.boxcox(df['LotArea'] + 0.001)"
      ]
    },
    {
      "cell_type": "code",
      "execution_count": null,
      "id": "e7542fb1",
      "metadata": {
        "id": "e7542fb1",
        "outputId": "0d338f06-1ac4-46e3-84fb-9ff10fb358a6"
      },
      "outputs": [
        {
          "data": {
            "text/plain": [
              "0.026686878748005866"
            ]
          },
          "execution_count": 38,
          "metadata": {},
          "output_type": "execute_result"
        }
      ],
      "source": [
        "df['LotArea_boxcox'].skew()"
      ]
    },
    {
      "cell_type": "code",
      "execution_count": null,
      "id": "bde25d4d",
      "metadata": {
        "id": "bde25d4d",
        "outputId": "cfe6ebb1-ae7d-466b-fa86-7e86b0d2aab1"
      },
      "outputs": [
        {
          "data": {
            "text/html": [
              "<div>\n",
              "<style scoped>\n",
              "    .dataframe tbody tr th:only-of-type {\n",
              "        vertical-align: middle;\n",
              "    }\n",
              "\n",
              "    .dataframe tbody tr th {\n",
              "        vertical-align: top;\n",
              "    }\n",
              "\n",
              "    .dataframe thead th {\n",
              "        text-align: right;\n",
              "    }\n",
              "</style>\n",
              "<table border=\"1\" class=\"dataframe\">\n",
              "  <thead>\n",
              "    <tr style=\"text-align: right;\">\n",
              "      <th></th>\n",
              "      <th>MSSubClass</th>\n",
              "      <th>MSZoning</th>\n",
              "      <th>LotArea</th>\n",
              "      <th>LotConfig</th>\n",
              "      <th>BldgType</th>\n",
              "      <th>OverallCond</th>\n",
              "      <th>YearBuilt</th>\n",
              "      <th>YearRemodAdd</th>\n",
              "      <th>Exterior1st</th>\n",
              "      <th>BsmtFinSF2</th>\n",
              "      <th>TotalBsmtSF</th>\n",
              "      <th>SalePrice</th>\n",
              "      <th>BsmtFinSF2_BoxCox</th>\n",
              "      <th>LotArea_boxcox</th>\n",
              "    </tr>\n",
              "  </thead>\n",
              "  <tbody>\n",
              "    <tr>\n",
              "      <th>0</th>\n",
              "      <td>60</td>\n",
              "      <td>RL</td>\n",
              "      <td>8450</td>\n",
              "      <td>Inside</td>\n",
              "      <td>1Fam</td>\n",
              "      <td>5</td>\n",
              "      <td>2003</td>\n",
              "      <td>2003</td>\n",
              "      <td>VinylSd</td>\n",
              "      <td>0.0</td>\n",
              "      <td>856.0</td>\n",
              "      <td>12.247694</td>\n",
              "      <td>-169.693628</td>\n",
              "      <td>10.433674</td>\n",
              "    </tr>\n",
              "    <tr>\n",
              "      <th>1</th>\n",
              "      <td>20</td>\n",
              "      <td>RL</td>\n",
              "      <td>9600</td>\n",
              "      <td>FR2</td>\n",
              "      <td>1Fam</td>\n",
              "      <td>8</td>\n",
              "      <td>1976</td>\n",
              "      <td>1976</td>\n",
              "      <td>MetalSd</td>\n",
              "      <td>0.0</td>\n",
              "      <td>1262.0</td>\n",
              "      <td>12.109011</td>\n",
              "      <td>-169.693628</td>\n",
              "      <td>10.602803</td>\n",
              "    </tr>\n",
              "    <tr>\n",
              "      <th>2</th>\n",
              "      <td>60</td>\n",
              "      <td>RL</td>\n",
              "      <td>11250</td>\n",
              "      <td>Inside</td>\n",
              "      <td>1Fam</td>\n",
              "      <td>5</td>\n",
              "      <td>2001</td>\n",
              "      <td>2002</td>\n",
              "      <td>VinylSd</td>\n",
              "      <td>0.0</td>\n",
              "      <td>920.0</td>\n",
              "      <td>12.317167</td>\n",
              "      <td>-169.693628</td>\n",
              "      <td>10.813966</td>\n",
              "    </tr>\n",
              "    <tr>\n",
              "      <th>3</th>\n",
              "      <td>70</td>\n",
              "      <td>RL</td>\n",
              "      <td>9550</td>\n",
              "      <td>Corner</td>\n",
              "      <td>1Fam</td>\n",
              "      <td>5</td>\n",
              "      <td>1915</td>\n",
              "      <td>1970</td>\n",
              "      <td>Wd Sdng</td>\n",
              "      <td>0.0</td>\n",
              "      <td>756.0</td>\n",
              "      <td>11.849398</td>\n",
              "      <td>-169.693628</td>\n",
              "      <td>10.595868</td>\n",
              "    </tr>\n",
              "    <tr>\n",
              "      <th>4</th>\n",
              "      <td>60</td>\n",
              "      <td>RL</td>\n",
              "      <td>14260</td>\n",
              "      <td>FR2</td>\n",
              "      <td>1Fam</td>\n",
              "      <td>5</td>\n",
              "      <td>2000</td>\n",
              "      <td>2000</td>\n",
              "      <td>VinylSd</td>\n",
              "      <td>0.0</td>\n",
              "      <td>1145.0</td>\n",
              "      <td>12.429216</td>\n",
              "      <td>-169.693628</td>\n",
              "      <td>11.131563</td>\n",
              "    </tr>\n",
              "  </tbody>\n",
              "</table>\n",
              "</div>"
            ],
            "text/plain": [
              "   MSSubClass MSZoning  LotArea LotConfig BldgType  OverallCond  YearBuilt  \\\n",
              "0          60       RL     8450    Inside     1Fam            5       2003   \n",
              "1          20       RL     9600       FR2     1Fam            8       1976   \n",
              "2          60       RL    11250    Inside     1Fam            5       2001   \n",
              "3          70       RL     9550    Corner     1Fam            5       1915   \n",
              "4          60       RL    14260       FR2     1Fam            5       2000   \n",
              "\n",
              "   YearRemodAdd Exterior1st  BsmtFinSF2  TotalBsmtSF  SalePrice  \\\n",
              "0          2003     VinylSd         0.0        856.0  12.247694   \n",
              "1          1976     MetalSd         0.0       1262.0  12.109011   \n",
              "2          2002     VinylSd         0.0        920.0  12.317167   \n",
              "3          1970     Wd Sdng         0.0        756.0  11.849398   \n",
              "4          2000     VinylSd         0.0       1145.0  12.429216   \n",
              "\n",
              "   BsmtFinSF2_BoxCox  LotArea_boxcox  \n",
              "0        -169.693628       10.433674  \n",
              "1        -169.693628       10.602803  \n",
              "2        -169.693628       10.813966  \n",
              "3        -169.693628       10.595868  \n",
              "4        -169.693628       11.131563  "
            ]
          },
          "execution_count": 39,
          "metadata": {},
          "output_type": "execute_result"
        }
      ],
      "source": [
        "df.head()"
      ]
    },
    {
      "cell_type": "code",
      "execution_count": null,
      "id": "fb37d8d6",
      "metadata": {
        "id": "fb37d8d6",
        "outputId": "b5c8816e-3cd1-459c-db10-9cfa8592902d"
      },
      "outputs": [
        {
          "name": "stdout",
          "output_type": "stream",
          "text": [
            "<class 'pandas.core.frame.DataFrame'>\n",
            "Int64Index: 1460 entries, 0 to 1459\n",
            "Data columns (total 14 columns):\n",
            " #   Column             Non-Null Count  Dtype  \n",
            "---  ------             --------------  -----  \n",
            " 0   MSSubClass         1460 non-null   int64  \n",
            " 1   MSZoning           1460 non-null   object \n",
            " 2   LotArea            1460 non-null   int64  \n",
            " 3   LotConfig          1460 non-null   object \n",
            " 4   BldgType           1460 non-null   object \n",
            " 5   OverallCond        1460 non-null   int64  \n",
            " 6   YearBuilt          1460 non-null   int64  \n",
            " 7   YearRemodAdd       1460 non-null   int64  \n",
            " 8   Exterior1st        1460 non-null   object \n",
            " 9   BsmtFinSF2         1460 non-null   float64\n",
            " 10  TotalBsmtSF        1460 non-null   float64\n",
            " 11  SalePrice          1460 non-null   float64\n",
            " 12  BsmtFinSF2_BoxCox  1460 non-null   float64\n",
            " 13  LotArea_boxcox     1460 non-null   float64\n",
            "dtypes: float64(5), int64(5), object(4)\n",
            "memory usage: 171.1+ KB\n"
          ]
        }
      ],
      "source": [
        "df.info()"
      ]
    },
    {
      "cell_type": "code",
      "execution_count": null,
      "id": "886006f6",
      "metadata": {
        "id": "886006f6"
      },
      "outputs": [],
      "source": [
        "coulmns=['LotArea', 'BsmtFinSF2']"
      ]
    },
    {
      "cell_type": "code",
      "execution_count": null,
      "id": "cea3cfc6",
      "metadata": {
        "id": "cea3cfc6"
      },
      "outputs": [],
      "source": [
        "df.drop(coulmns, axis=1, inplace=True)"
      ]
    },
    {
      "cell_type": "code",
      "execution_count": null,
      "id": "040113df",
      "metadata": {
        "id": "040113df",
        "outputId": "2885de74-439d-4991-e644-d457ef65849f"
      },
      "outputs": [
        {
          "data": {
            "text/html": [
              "<div>\n",
              "<style scoped>\n",
              "    .dataframe tbody tr th:only-of-type {\n",
              "        vertical-align: middle;\n",
              "    }\n",
              "\n",
              "    .dataframe tbody tr th {\n",
              "        vertical-align: top;\n",
              "    }\n",
              "\n",
              "    .dataframe thead th {\n",
              "        text-align: right;\n",
              "    }\n",
              "</style>\n",
              "<table border=\"1\" class=\"dataframe\">\n",
              "  <thead>\n",
              "    <tr style=\"text-align: right;\">\n",
              "      <th></th>\n",
              "      <th>MSSubClass</th>\n",
              "      <th>MSZoning</th>\n",
              "      <th>LotConfig</th>\n",
              "      <th>BldgType</th>\n",
              "      <th>OverallCond</th>\n",
              "      <th>YearBuilt</th>\n",
              "      <th>YearRemodAdd</th>\n",
              "      <th>Exterior1st</th>\n",
              "      <th>TotalBsmtSF</th>\n",
              "      <th>SalePrice</th>\n",
              "      <th>BsmtFinSF2_BoxCox</th>\n",
              "      <th>LotArea_boxcox</th>\n",
              "    </tr>\n",
              "  </thead>\n",
              "  <tbody>\n",
              "    <tr>\n",
              "      <th>0</th>\n",
              "      <td>60</td>\n",
              "      <td>RL</td>\n",
              "      <td>Inside</td>\n",
              "      <td>1Fam</td>\n",
              "      <td>5</td>\n",
              "      <td>2003</td>\n",
              "      <td>2003</td>\n",
              "      <td>VinylSd</td>\n",
              "      <td>856.0</td>\n",
              "      <td>12.247694</td>\n",
              "      <td>-169.693628</td>\n",
              "      <td>10.433674</td>\n",
              "    </tr>\n",
              "    <tr>\n",
              "      <th>1</th>\n",
              "      <td>20</td>\n",
              "      <td>RL</td>\n",
              "      <td>FR2</td>\n",
              "      <td>1Fam</td>\n",
              "      <td>8</td>\n",
              "      <td>1976</td>\n",
              "      <td>1976</td>\n",
              "      <td>MetalSd</td>\n",
              "      <td>1262.0</td>\n",
              "      <td>12.109011</td>\n",
              "      <td>-169.693628</td>\n",
              "      <td>10.602803</td>\n",
              "    </tr>\n",
              "    <tr>\n",
              "      <th>2</th>\n",
              "      <td>60</td>\n",
              "      <td>RL</td>\n",
              "      <td>Inside</td>\n",
              "      <td>1Fam</td>\n",
              "      <td>5</td>\n",
              "      <td>2001</td>\n",
              "      <td>2002</td>\n",
              "      <td>VinylSd</td>\n",
              "      <td>920.0</td>\n",
              "      <td>12.317167</td>\n",
              "      <td>-169.693628</td>\n",
              "      <td>10.813966</td>\n",
              "    </tr>\n",
              "    <tr>\n",
              "      <th>3</th>\n",
              "      <td>70</td>\n",
              "      <td>RL</td>\n",
              "      <td>Corner</td>\n",
              "      <td>1Fam</td>\n",
              "      <td>5</td>\n",
              "      <td>1915</td>\n",
              "      <td>1970</td>\n",
              "      <td>Wd Sdng</td>\n",
              "      <td>756.0</td>\n",
              "      <td>11.849398</td>\n",
              "      <td>-169.693628</td>\n",
              "      <td>10.595868</td>\n",
              "    </tr>\n",
              "    <tr>\n",
              "      <th>4</th>\n",
              "      <td>60</td>\n",
              "      <td>RL</td>\n",
              "      <td>FR2</td>\n",
              "      <td>1Fam</td>\n",
              "      <td>5</td>\n",
              "      <td>2000</td>\n",
              "      <td>2000</td>\n",
              "      <td>VinylSd</td>\n",
              "      <td>1145.0</td>\n",
              "      <td>12.429216</td>\n",
              "      <td>-169.693628</td>\n",
              "      <td>11.131563</td>\n",
              "    </tr>\n",
              "  </tbody>\n",
              "</table>\n",
              "</div>"
            ],
            "text/plain": [
              "   MSSubClass MSZoning LotConfig BldgType  OverallCond  YearBuilt  \\\n",
              "0          60       RL    Inside     1Fam            5       2003   \n",
              "1          20       RL       FR2     1Fam            8       1976   \n",
              "2          60       RL    Inside     1Fam            5       2001   \n",
              "3          70       RL    Corner     1Fam            5       1915   \n",
              "4          60       RL       FR2     1Fam            5       2000   \n",
              "\n",
              "   YearRemodAdd Exterior1st  TotalBsmtSF  SalePrice  BsmtFinSF2_BoxCox  \\\n",
              "0          2003     VinylSd        856.0  12.247694        -169.693628   \n",
              "1          1976     MetalSd       1262.0  12.109011        -169.693628   \n",
              "2          2002     VinylSd        920.0  12.317167        -169.693628   \n",
              "3          1970     Wd Sdng        756.0  11.849398        -169.693628   \n",
              "4          2000     VinylSd       1145.0  12.429216        -169.693628   \n",
              "\n",
              "   LotArea_boxcox  \n",
              "0       10.433674  \n",
              "1       10.602803  \n",
              "2       10.813966  \n",
              "3       10.595868  \n",
              "4       11.131563  "
            ]
          },
          "execution_count": 43,
          "metadata": {},
          "output_type": "execute_result"
        }
      ],
      "source": [
        "df.head()"
      ]
    },
    {
      "cell_type": "code",
      "execution_count": null,
      "id": "196a1432",
      "metadata": {
        "id": "196a1432",
        "outputId": "77ff390a-4b39-4180-fce1-2083186f2401"
      },
      "outputs": [
        {
          "data": {
            "text/plain": [
              "MSSubClass           0\n",
              "MSZoning             0\n",
              "LotConfig            0\n",
              "BldgType             0\n",
              "OverallCond          0\n",
              "YearBuilt            0\n",
              "YearRemodAdd         0\n",
              "Exterior1st          0\n",
              "TotalBsmtSF          0\n",
              "SalePrice            0\n",
              "BsmtFinSF2_BoxCox    0\n",
              "LotArea_boxcox       0\n",
              "dtype: int64"
            ]
          },
          "execution_count": 44,
          "metadata": {},
          "output_type": "execute_result"
        }
      ],
      "source": [
        "df.isnull().sum()"
      ]
    },
    {
      "cell_type": "code",
      "execution_count": null,
      "id": "368a7e7b",
      "metadata": {
        "id": "368a7e7b"
      },
      "outputs": [],
      "source": [
        "df_encoded = pd.get_dummies(df, drop_first=True)"
      ]
    },
    {
      "cell_type": "code",
      "execution_count": null,
      "id": "857d06c0",
      "metadata": {
        "id": "857d06c0",
        "outputId": "3184f4d2-56cc-4d14-b652-0b95700b077b"
      },
      "outputs": [
        {
          "data": {
            "text/html": [
              "<div>\n",
              "<style scoped>\n",
              "    .dataframe tbody tr th:only-of-type {\n",
              "        vertical-align: middle;\n",
              "    }\n",
              "\n",
              "    .dataframe tbody tr th {\n",
              "        vertical-align: top;\n",
              "    }\n",
              "\n",
              "    .dataframe thead th {\n",
              "        text-align: right;\n",
              "    }\n",
              "</style>\n",
              "<table border=\"1\" class=\"dataframe\">\n",
              "  <thead>\n",
              "    <tr style=\"text-align: right;\">\n",
              "      <th></th>\n",
              "      <th>MSSubClass</th>\n",
              "      <th>OverallCond</th>\n",
              "      <th>YearBuilt</th>\n",
              "      <th>YearRemodAdd</th>\n",
              "      <th>TotalBsmtSF</th>\n",
              "      <th>SalePrice</th>\n",
              "      <th>BsmtFinSF2_BoxCox</th>\n",
              "      <th>LotArea_boxcox</th>\n",
              "      <th>MSZoning_FV</th>\n",
              "      <th>MSZoning_RH</th>\n",
              "      <th>...</th>\n",
              "      <th>Exterior1st_CemntBd</th>\n",
              "      <th>Exterior1st_HdBoard</th>\n",
              "      <th>Exterior1st_ImStucc</th>\n",
              "      <th>Exterior1st_MetalSd</th>\n",
              "      <th>Exterior1st_Plywood</th>\n",
              "      <th>Exterior1st_Stone</th>\n",
              "      <th>Exterior1st_Stucco</th>\n",
              "      <th>Exterior1st_VinylSd</th>\n",
              "      <th>Exterior1st_Wd Sdng</th>\n",
              "      <th>Exterior1st_WdShing</th>\n",
              "    </tr>\n",
              "  </thead>\n",
              "  <tbody>\n",
              "    <tr>\n",
              "      <th>0</th>\n",
              "      <td>60</td>\n",
              "      <td>5</td>\n",
              "      <td>2003</td>\n",
              "      <td>2003</td>\n",
              "      <td>856.0</td>\n",
              "      <td>12.247694</td>\n",
              "      <td>-169.693628</td>\n",
              "      <td>10.433674</td>\n",
              "      <td>0</td>\n",
              "      <td>0</td>\n",
              "      <td>...</td>\n",
              "      <td>0</td>\n",
              "      <td>0</td>\n",
              "      <td>0</td>\n",
              "      <td>0</td>\n",
              "      <td>0</td>\n",
              "      <td>0</td>\n",
              "      <td>0</td>\n",
              "      <td>1</td>\n",
              "      <td>0</td>\n",
              "      <td>0</td>\n",
              "    </tr>\n",
              "    <tr>\n",
              "      <th>1</th>\n",
              "      <td>20</td>\n",
              "      <td>8</td>\n",
              "      <td>1976</td>\n",
              "      <td>1976</td>\n",
              "      <td>1262.0</td>\n",
              "      <td>12.109011</td>\n",
              "      <td>-169.693628</td>\n",
              "      <td>10.602803</td>\n",
              "      <td>0</td>\n",
              "      <td>0</td>\n",
              "      <td>...</td>\n",
              "      <td>0</td>\n",
              "      <td>0</td>\n",
              "      <td>0</td>\n",
              "      <td>1</td>\n",
              "      <td>0</td>\n",
              "      <td>0</td>\n",
              "      <td>0</td>\n",
              "      <td>0</td>\n",
              "      <td>0</td>\n",
              "      <td>0</td>\n",
              "    </tr>\n",
              "    <tr>\n",
              "      <th>2</th>\n",
              "      <td>60</td>\n",
              "      <td>5</td>\n",
              "      <td>2001</td>\n",
              "      <td>2002</td>\n",
              "      <td>920.0</td>\n",
              "      <td>12.317167</td>\n",
              "      <td>-169.693628</td>\n",
              "      <td>10.813966</td>\n",
              "      <td>0</td>\n",
              "      <td>0</td>\n",
              "      <td>...</td>\n",
              "      <td>0</td>\n",
              "      <td>0</td>\n",
              "      <td>0</td>\n",
              "      <td>0</td>\n",
              "      <td>0</td>\n",
              "      <td>0</td>\n",
              "      <td>0</td>\n",
              "      <td>1</td>\n",
              "      <td>0</td>\n",
              "      <td>0</td>\n",
              "    </tr>\n",
              "    <tr>\n",
              "      <th>3</th>\n",
              "      <td>70</td>\n",
              "      <td>5</td>\n",
              "      <td>1915</td>\n",
              "      <td>1970</td>\n",
              "      <td>756.0</td>\n",
              "      <td>11.849398</td>\n",
              "      <td>-169.693628</td>\n",
              "      <td>10.595868</td>\n",
              "      <td>0</td>\n",
              "      <td>0</td>\n",
              "      <td>...</td>\n",
              "      <td>0</td>\n",
              "      <td>0</td>\n",
              "      <td>0</td>\n",
              "      <td>0</td>\n",
              "      <td>0</td>\n",
              "      <td>0</td>\n",
              "      <td>0</td>\n",
              "      <td>0</td>\n",
              "      <td>1</td>\n",
              "      <td>0</td>\n",
              "    </tr>\n",
              "    <tr>\n",
              "      <th>4</th>\n",
              "      <td>60</td>\n",
              "      <td>5</td>\n",
              "      <td>2000</td>\n",
              "      <td>2000</td>\n",
              "      <td>1145.0</td>\n",
              "      <td>12.429216</td>\n",
              "      <td>-169.693628</td>\n",
              "      <td>11.131563</td>\n",
              "      <td>0</td>\n",
              "      <td>0</td>\n",
              "      <td>...</td>\n",
              "      <td>0</td>\n",
              "      <td>0</td>\n",
              "      <td>0</td>\n",
              "      <td>0</td>\n",
              "      <td>0</td>\n",
              "      <td>0</td>\n",
              "      <td>0</td>\n",
              "      <td>1</td>\n",
              "      <td>0</td>\n",
              "      <td>0</td>\n",
              "    </tr>\n",
              "  </tbody>\n",
              "</table>\n",
              "<p>5 rows × 34 columns</p>\n",
              "</div>"
            ],
            "text/plain": [
              "   MSSubClass  OverallCond  YearBuilt  YearRemodAdd  TotalBsmtSF  SalePrice  \\\n",
              "0          60            5       2003          2003        856.0  12.247694   \n",
              "1          20            8       1976          1976       1262.0  12.109011   \n",
              "2          60            5       2001          2002        920.0  12.317167   \n",
              "3          70            5       1915          1970        756.0  11.849398   \n",
              "4          60            5       2000          2000       1145.0  12.429216   \n",
              "\n",
              "   BsmtFinSF2_BoxCox  LotArea_boxcox  MSZoning_FV  MSZoning_RH  ...  \\\n",
              "0        -169.693628       10.433674            0            0  ...   \n",
              "1        -169.693628       10.602803            0            0  ...   \n",
              "2        -169.693628       10.813966            0            0  ...   \n",
              "3        -169.693628       10.595868            0            0  ...   \n",
              "4        -169.693628       11.131563            0            0  ...   \n",
              "\n",
              "   Exterior1st_CemntBd  Exterior1st_HdBoard  Exterior1st_ImStucc  \\\n",
              "0                    0                    0                    0   \n",
              "1                    0                    0                    0   \n",
              "2                    0                    0                    0   \n",
              "3                    0                    0                    0   \n",
              "4                    0                    0                    0   \n",
              "\n",
              "   Exterior1st_MetalSd  Exterior1st_Plywood  Exterior1st_Stone  \\\n",
              "0                    0                    0                  0   \n",
              "1                    1                    0                  0   \n",
              "2                    0                    0                  0   \n",
              "3                    0                    0                  0   \n",
              "4                    0                    0                  0   \n",
              "\n",
              "   Exterior1st_Stucco  Exterior1st_VinylSd  Exterior1st_Wd Sdng  \\\n",
              "0                   0                    1                    0   \n",
              "1                   0                    0                    0   \n",
              "2                   0                    1                    0   \n",
              "3                   0                    0                    1   \n",
              "4                   0                    1                    0   \n",
              "\n",
              "   Exterior1st_WdShing  \n",
              "0                    0  \n",
              "1                    0  \n",
              "2                    0  \n",
              "3                    0  \n",
              "4                    0  \n",
              "\n",
              "[5 rows x 34 columns]"
            ]
          },
          "execution_count": 46,
          "metadata": {},
          "output_type": "execute_result"
        }
      ],
      "source": [
        "df_encoded.head()"
      ]
    },
    {
      "cell_type": "code",
      "execution_count": null,
      "id": "64d85dac",
      "metadata": {
        "id": "64d85dac",
        "outputId": "a7e2d8f4-fa6d-4f59-f2e2-3b34fea3b7c9"
      },
      "outputs": [
        {
          "name": "stdout",
          "output_type": "stream",
          "text": [
            "<class 'pandas.core.frame.DataFrame'>\n",
            "Int64Index: 1460 entries, 0 to 1459\n",
            "Data columns (total 34 columns):\n",
            " #   Column               Non-Null Count  Dtype  \n",
            "---  ------               --------------  -----  \n",
            " 0   MSSubClass           1460 non-null   int64  \n",
            " 1   OverallCond          1460 non-null   int64  \n",
            " 2   YearBuilt            1460 non-null   int64  \n",
            " 3   YearRemodAdd         1460 non-null   int64  \n",
            " 4   TotalBsmtSF          1460 non-null   float64\n",
            " 5   SalePrice            1460 non-null   float64\n",
            " 6   BsmtFinSF2_BoxCox    1460 non-null   float64\n",
            " 7   LotArea_boxcox       1460 non-null   float64\n",
            " 8   MSZoning_FV          1460 non-null   uint8  \n",
            " 9   MSZoning_RH          1460 non-null   uint8  \n",
            " 10  MSZoning_RL          1460 non-null   uint8  \n",
            " 11  MSZoning_RM          1460 non-null   uint8  \n",
            " 12  LotConfig_CulDSac    1460 non-null   uint8  \n",
            " 13  LotConfig_FR2        1460 non-null   uint8  \n",
            " 14  LotConfig_FR3        1460 non-null   uint8  \n",
            " 15  LotConfig_Inside     1460 non-null   uint8  \n",
            " 16  BldgType_2fmCon      1460 non-null   uint8  \n",
            " 17  BldgType_Duplex      1460 non-null   uint8  \n",
            " 18  BldgType_Twnhs       1460 non-null   uint8  \n",
            " 19  BldgType_TwnhsE      1460 non-null   uint8  \n",
            " 20  Exterior1st_AsphShn  1460 non-null   uint8  \n",
            " 21  Exterior1st_BrkComm  1460 non-null   uint8  \n",
            " 22  Exterior1st_BrkFace  1460 non-null   uint8  \n",
            " 23  Exterior1st_CBlock   1460 non-null   uint8  \n",
            " 24  Exterior1st_CemntBd  1460 non-null   uint8  \n",
            " 25  Exterior1st_HdBoard  1460 non-null   uint8  \n",
            " 26  Exterior1st_ImStucc  1460 non-null   uint8  \n",
            " 27  Exterior1st_MetalSd  1460 non-null   uint8  \n",
            " 28  Exterior1st_Plywood  1460 non-null   uint8  \n",
            " 29  Exterior1st_Stone    1460 non-null   uint8  \n",
            " 30  Exterior1st_Stucco   1460 non-null   uint8  \n",
            " 31  Exterior1st_VinylSd  1460 non-null   uint8  \n",
            " 32  Exterior1st_Wd Sdng  1460 non-null   uint8  \n",
            " 33  Exterior1st_WdShing  1460 non-null   uint8  \n",
            "dtypes: float64(4), int64(4), uint8(26)\n",
            "memory usage: 139.7 KB\n"
          ]
        }
      ],
      "source": [
        "df_encoded.info()"
      ]
    },
    {
      "cell_type": "code",
      "execution_count": null,
      "id": "b6cec94b",
      "metadata": {
        "id": "b6cec94b"
      },
      "outputs": [],
      "source": [
        "from sklearn.preprocessing import StandardScaler\n",
        "\n",
        "scaler = StandardScaler()"
      ]
    },
    {
      "cell_type": "code",
      "execution_count": null,
      "id": "983a3649",
      "metadata": {
        "id": "983a3649"
      },
      "outputs": [],
      "source": [
        "continuous_vars=['MSSubClass',\n",
        " 'YearBuilt',\n",
        " 'YearRemodAdd',\n",
        " 'TotalBsmtSF',\n",
        " 'SalePrice','BsmtFinSF2_BoxCox','LotArea_boxcox']"
      ]
    },
    {
      "cell_type": "code",
      "execution_count": null,
      "id": "281e5882",
      "metadata": {
        "id": "281e5882",
        "outputId": "b2a6feb5-802c-425c-bd6a-d5d8b06e92ca"
      },
      "outputs": [
        {
          "data": {
            "text/plain": [
              "['MSSubClass',\n",
              " 'YearBuilt',\n",
              " 'YearRemodAdd',\n",
              " 'TotalBsmtSF',\n",
              " 'SalePrice',\n",
              " 'BsmtFinSF2_BoxCox',\n",
              " 'LotArea_boxcox']"
            ]
          },
          "execution_count": 50,
          "metadata": {},
          "output_type": "execute_result"
        }
      ],
      "source": [
        "continuous_vars"
      ]
    },
    {
      "cell_type": "code",
      "execution_count": null,
      "id": "ed3ca252",
      "metadata": {
        "id": "ed3ca252",
        "outputId": "c15f0f94-9202-4d75-f061-4225da5435d1"
      },
      "outputs": [
        {
          "data": {
            "text/html": [
              "<div>\n",
              "<style scoped>\n",
              "    .dataframe tbody tr th:only-of-type {\n",
              "        vertical-align: middle;\n",
              "    }\n",
              "\n",
              "    .dataframe tbody tr th {\n",
              "        vertical-align: top;\n",
              "    }\n",
              "\n",
              "    .dataframe thead th {\n",
              "        text-align: right;\n",
              "    }\n",
              "</style>\n",
              "<table border=\"1\" class=\"dataframe\">\n",
              "  <thead>\n",
              "    <tr style=\"text-align: right;\">\n",
              "      <th></th>\n",
              "      <th>MSSubClass</th>\n",
              "      <th>OverallCond</th>\n",
              "      <th>YearBuilt</th>\n",
              "      <th>YearRemodAdd</th>\n",
              "      <th>TotalBsmtSF</th>\n",
              "      <th>SalePrice</th>\n",
              "      <th>BsmtFinSF2_BoxCox</th>\n",
              "      <th>LotArea_boxcox</th>\n",
              "      <th>MSZoning_FV</th>\n",
              "      <th>MSZoning_RH</th>\n",
              "      <th>...</th>\n",
              "      <th>Exterior1st_CemntBd</th>\n",
              "      <th>Exterior1st_HdBoard</th>\n",
              "      <th>Exterior1st_ImStucc</th>\n",
              "      <th>Exterior1st_MetalSd</th>\n",
              "      <th>Exterior1st_Plywood</th>\n",
              "      <th>Exterior1st_Stone</th>\n",
              "      <th>Exterior1st_Stucco</th>\n",
              "      <th>Exterior1st_VinylSd</th>\n",
              "      <th>Exterior1st_Wd Sdng</th>\n",
              "      <th>Exterior1st_WdShing</th>\n",
              "    </tr>\n",
              "  </thead>\n",
              "  <tbody>\n",
              "    <tr>\n",
              "      <th>0</th>\n",
              "      <td>60</td>\n",
              "      <td>5</td>\n",
              "      <td>2003</td>\n",
              "      <td>2003</td>\n",
              "      <td>856.0</td>\n",
              "      <td>12.247694</td>\n",
              "      <td>-169.693628</td>\n",
              "      <td>10.433674</td>\n",
              "      <td>0</td>\n",
              "      <td>0</td>\n",
              "      <td>...</td>\n",
              "      <td>0</td>\n",
              "      <td>0</td>\n",
              "      <td>0</td>\n",
              "      <td>0</td>\n",
              "      <td>0</td>\n",
              "      <td>0</td>\n",
              "      <td>0</td>\n",
              "      <td>1</td>\n",
              "      <td>0</td>\n",
              "      <td>0</td>\n",
              "    </tr>\n",
              "    <tr>\n",
              "      <th>1</th>\n",
              "      <td>20</td>\n",
              "      <td>8</td>\n",
              "      <td>1976</td>\n",
              "      <td>1976</td>\n",
              "      <td>1262.0</td>\n",
              "      <td>12.109011</td>\n",
              "      <td>-169.693628</td>\n",
              "      <td>10.602803</td>\n",
              "      <td>0</td>\n",
              "      <td>0</td>\n",
              "      <td>...</td>\n",
              "      <td>0</td>\n",
              "      <td>0</td>\n",
              "      <td>0</td>\n",
              "      <td>1</td>\n",
              "      <td>0</td>\n",
              "      <td>0</td>\n",
              "      <td>0</td>\n",
              "      <td>0</td>\n",
              "      <td>0</td>\n",
              "      <td>0</td>\n",
              "    </tr>\n",
              "    <tr>\n",
              "      <th>2</th>\n",
              "      <td>60</td>\n",
              "      <td>5</td>\n",
              "      <td>2001</td>\n",
              "      <td>2002</td>\n",
              "      <td>920.0</td>\n",
              "      <td>12.317167</td>\n",
              "      <td>-169.693628</td>\n",
              "      <td>10.813966</td>\n",
              "      <td>0</td>\n",
              "      <td>0</td>\n",
              "      <td>...</td>\n",
              "      <td>0</td>\n",
              "      <td>0</td>\n",
              "      <td>0</td>\n",
              "      <td>0</td>\n",
              "      <td>0</td>\n",
              "      <td>0</td>\n",
              "      <td>0</td>\n",
              "      <td>1</td>\n",
              "      <td>0</td>\n",
              "      <td>0</td>\n",
              "    </tr>\n",
              "    <tr>\n",
              "      <th>3</th>\n",
              "      <td>70</td>\n",
              "      <td>5</td>\n",
              "      <td>1915</td>\n",
              "      <td>1970</td>\n",
              "      <td>756.0</td>\n",
              "      <td>11.849398</td>\n",
              "      <td>-169.693628</td>\n",
              "      <td>10.595868</td>\n",
              "      <td>0</td>\n",
              "      <td>0</td>\n",
              "      <td>...</td>\n",
              "      <td>0</td>\n",
              "      <td>0</td>\n",
              "      <td>0</td>\n",
              "      <td>0</td>\n",
              "      <td>0</td>\n",
              "      <td>0</td>\n",
              "      <td>0</td>\n",
              "      <td>0</td>\n",
              "      <td>1</td>\n",
              "      <td>0</td>\n",
              "    </tr>\n",
              "    <tr>\n",
              "      <th>4</th>\n",
              "      <td>60</td>\n",
              "      <td>5</td>\n",
              "      <td>2000</td>\n",
              "      <td>2000</td>\n",
              "      <td>1145.0</td>\n",
              "      <td>12.429216</td>\n",
              "      <td>-169.693628</td>\n",
              "      <td>11.131563</td>\n",
              "      <td>0</td>\n",
              "      <td>0</td>\n",
              "      <td>...</td>\n",
              "      <td>0</td>\n",
              "      <td>0</td>\n",
              "      <td>0</td>\n",
              "      <td>0</td>\n",
              "      <td>0</td>\n",
              "      <td>0</td>\n",
              "      <td>0</td>\n",
              "      <td>1</td>\n",
              "      <td>0</td>\n",
              "      <td>0</td>\n",
              "    </tr>\n",
              "  </tbody>\n",
              "</table>\n",
              "<p>5 rows × 34 columns</p>\n",
              "</div>"
            ],
            "text/plain": [
              "   MSSubClass  OverallCond  YearBuilt  YearRemodAdd  TotalBsmtSF  SalePrice  \\\n",
              "0          60            5       2003          2003        856.0  12.247694   \n",
              "1          20            8       1976          1976       1262.0  12.109011   \n",
              "2          60            5       2001          2002        920.0  12.317167   \n",
              "3          70            5       1915          1970        756.0  11.849398   \n",
              "4          60            5       2000          2000       1145.0  12.429216   \n",
              "\n",
              "   BsmtFinSF2_BoxCox  LotArea_boxcox  MSZoning_FV  MSZoning_RH  ...  \\\n",
              "0        -169.693628       10.433674            0            0  ...   \n",
              "1        -169.693628       10.602803            0            0  ...   \n",
              "2        -169.693628       10.813966            0            0  ...   \n",
              "3        -169.693628       10.595868            0            0  ...   \n",
              "4        -169.693628       11.131563            0            0  ...   \n",
              "\n",
              "   Exterior1st_CemntBd  Exterior1st_HdBoard  Exterior1st_ImStucc  \\\n",
              "0                    0                    0                    0   \n",
              "1                    0                    0                    0   \n",
              "2                    0                    0                    0   \n",
              "3                    0                    0                    0   \n",
              "4                    0                    0                    0   \n",
              "\n",
              "   Exterior1st_MetalSd  Exterior1st_Plywood  Exterior1st_Stone  \\\n",
              "0                    0                    0                  0   \n",
              "1                    1                    0                  0   \n",
              "2                    0                    0                  0   \n",
              "3                    0                    0                  0   \n",
              "4                    0                    0                  0   \n",
              "\n",
              "   Exterior1st_Stucco  Exterior1st_VinylSd  Exterior1st_Wd Sdng  \\\n",
              "0                   0                    1                    0   \n",
              "1                   0                    0                    0   \n",
              "2                   0                    1                    0   \n",
              "3                   0                    0                    1   \n",
              "4                   0                    1                    0   \n",
              "\n",
              "   Exterior1st_WdShing  \n",
              "0                    0  \n",
              "1                    0  \n",
              "2                    0  \n",
              "3                    0  \n",
              "4                    0  \n",
              "\n",
              "[5 rows x 34 columns]"
            ]
          },
          "execution_count": 51,
          "metadata": {},
          "output_type": "execute_result"
        }
      ],
      "source": [
        "df_encoded.head()"
      ]
    },
    {
      "cell_type": "code",
      "execution_count": null,
      "id": "05d39d56",
      "metadata": {
        "id": "05d39d56"
      },
      "outputs": [],
      "source": [
        "scaler = StandardScaler()\n",
        "scaled_df = scaler.fit_transform(df_encoded[['MSSubClass',\n",
        " 'YearBuilt',\n",
        " 'YearRemodAdd',\n",
        " 'TotalBsmtSF',\n",
        " 'SalePrice',\n",
        " 'BsmtFinSF2_BoxCox',\n",
        " 'LotArea_boxcox']])"
      ]
    },
    {
      "cell_type": "code",
      "execution_count": null,
      "id": "2e4e27f8",
      "metadata": {
        "id": "2e4e27f8"
      },
      "outputs": [],
      "source": [
        "df_encoded[continuous_vars] = scaled_df"
      ]
    },
    {
      "cell_type": "code",
      "execution_count": null,
      "id": "e26202da",
      "metadata": {
        "id": "e26202da",
        "outputId": "4b423d92-5f44-41f2-8cb9-05d0430e050b"
      },
      "outputs": [
        {
          "data": {
            "text/html": [
              "<div>\n",
              "<style scoped>\n",
              "    .dataframe tbody tr th:only-of-type {\n",
              "        vertical-align: middle;\n",
              "    }\n",
              "\n",
              "    .dataframe tbody tr th {\n",
              "        vertical-align: top;\n",
              "    }\n",
              "\n",
              "    .dataframe thead th {\n",
              "        text-align: right;\n",
              "    }\n",
              "</style>\n",
              "<table border=\"1\" class=\"dataframe\">\n",
              "  <thead>\n",
              "    <tr style=\"text-align: right;\">\n",
              "      <th></th>\n",
              "      <th>MSSubClass</th>\n",
              "      <th>OverallCond</th>\n",
              "      <th>YearBuilt</th>\n",
              "      <th>YearRemodAdd</th>\n",
              "      <th>TotalBsmtSF</th>\n",
              "      <th>SalePrice</th>\n",
              "      <th>BsmtFinSF2_BoxCox</th>\n",
              "      <th>LotArea_boxcox</th>\n",
              "      <th>MSZoning_FV</th>\n",
              "      <th>MSZoning_RH</th>\n",
              "      <th>...</th>\n",
              "      <th>Exterior1st_CemntBd</th>\n",
              "      <th>Exterior1st_HdBoard</th>\n",
              "      <th>Exterior1st_ImStucc</th>\n",
              "      <th>Exterior1st_MetalSd</th>\n",
              "      <th>Exterior1st_Plywood</th>\n",
              "      <th>Exterior1st_Stone</th>\n",
              "      <th>Exterior1st_Stucco</th>\n",
              "      <th>Exterior1st_VinylSd</th>\n",
              "      <th>Exterior1st_Wd Sdng</th>\n",
              "      <th>Exterior1st_WdShing</th>\n",
              "    </tr>\n",
              "  </thead>\n",
              "  <tbody>\n",
              "    <tr>\n",
              "      <th>0</th>\n",
              "      <td>0.073375</td>\n",
              "      <td>5</td>\n",
              "      <td>1.050994</td>\n",
              "      <td>0.878668</td>\n",
              "      <td>-0.459303</td>\n",
              "      <td>0.560068</td>\n",
              "      <td>-0.359384</td>\n",
              "      <td>-0.141167</td>\n",
              "      <td>0</td>\n",
              "      <td>0</td>\n",
              "      <td>...</td>\n",
              "      <td>0</td>\n",
              "      <td>0</td>\n",
              "      <td>0</td>\n",
              "      <td>0</td>\n",
              "      <td>0</td>\n",
              "      <td>0</td>\n",
              "      <td>0</td>\n",
              "      <td>1</td>\n",
              "      <td>0</td>\n",
              "      <td>0</td>\n",
              "    </tr>\n",
              "    <tr>\n",
              "      <th>1</th>\n",
              "      <td>-0.872563</td>\n",
              "      <td>8</td>\n",
              "      <td>0.156734</td>\n",
              "      <td>-0.429577</td>\n",
              "      <td>0.466465</td>\n",
              "      <td>0.212764</td>\n",
              "      <td>-0.359384</td>\n",
              "      <td>0.105604</td>\n",
              "      <td>0</td>\n",
              "      <td>0</td>\n",
              "      <td>...</td>\n",
              "      <td>0</td>\n",
              "      <td>0</td>\n",
              "      <td>0</td>\n",
              "      <td>1</td>\n",
              "      <td>0</td>\n",
              "      <td>0</td>\n",
              "      <td>0</td>\n",
              "      <td>0</td>\n",
              "      <td>0</td>\n",
              "      <td>0</td>\n",
              "    </tr>\n",
              "    <tr>\n",
              "      <th>2</th>\n",
              "      <td>0.073375</td>\n",
              "      <td>5</td>\n",
              "      <td>0.984752</td>\n",
              "      <td>0.830215</td>\n",
              "      <td>-0.313369</td>\n",
              "      <td>0.734046</td>\n",
              "      <td>-0.359384</td>\n",
              "      <td>0.413707</td>\n",
              "      <td>0</td>\n",
              "      <td>0</td>\n",
              "      <td>...</td>\n",
              "      <td>0</td>\n",
              "      <td>0</td>\n",
              "      <td>0</td>\n",
              "      <td>0</td>\n",
              "      <td>0</td>\n",
              "      <td>0</td>\n",
              "      <td>0</td>\n",
              "      <td>1</td>\n",
              "      <td>0</td>\n",
              "      <td>0</td>\n",
              "    </tr>\n",
              "    <tr>\n",
              "      <th>3</th>\n",
              "      <td>0.309859</td>\n",
              "      <td>5</td>\n",
              "      <td>-1.863632</td>\n",
              "      <td>-0.720298</td>\n",
              "      <td>-0.687324</td>\n",
              "      <td>-0.437382</td>\n",
              "      <td>-0.359384</td>\n",
              "      <td>0.095486</td>\n",
              "      <td>0</td>\n",
              "      <td>0</td>\n",
              "      <td>...</td>\n",
              "      <td>0</td>\n",
              "      <td>0</td>\n",
              "      <td>0</td>\n",
              "      <td>0</td>\n",
              "      <td>0</td>\n",
              "      <td>0</td>\n",
              "      <td>0</td>\n",
              "      <td>0</td>\n",
              "      <td>1</td>\n",
              "      <td>0</td>\n",
              "    </tr>\n",
              "    <tr>\n",
              "      <th>4</th>\n",
              "      <td>0.073375</td>\n",
              "      <td>5</td>\n",
              "      <td>0.951632</td>\n",
              "      <td>0.733308</td>\n",
              "      <td>0.199680</td>\n",
              "      <td>1.014651</td>\n",
              "      <td>-0.359384</td>\n",
              "      <td>0.877101</td>\n",
              "      <td>0</td>\n",
              "      <td>0</td>\n",
              "      <td>...</td>\n",
              "      <td>0</td>\n",
              "      <td>0</td>\n",
              "      <td>0</td>\n",
              "      <td>0</td>\n",
              "      <td>0</td>\n",
              "      <td>0</td>\n",
              "      <td>0</td>\n",
              "      <td>1</td>\n",
              "      <td>0</td>\n",
              "      <td>0</td>\n",
              "    </tr>\n",
              "  </tbody>\n",
              "</table>\n",
              "<p>5 rows × 34 columns</p>\n",
              "</div>"
            ],
            "text/plain": [
              "   MSSubClass  OverallCond  YearBuilt  YearRemodAdd  TotalBsmtSF  SalePrice  \\\n",
              "0    0.073375            5   1.050994      0.878668    -0.459303   0.560068   \n",
              "1   -0.872563            8   0.156734     -0.429577     0.466465   0.212764   \n",
              "2    0.073375            5   0.984752      0.830215    -0.313369   0.734046   \n",
              "3    0.309859            5  -1.863632     -0.720298    -0.687324  -0.437382   \n",
              "4    0.073375            5   0.951632      0.733308     0.199680   1.014651   \n",
              "\n",
              "   BsmtFinSF2_BoxCox  LotArea_boxcox  MSZoning_FV  MSZoning_RH  ...  \\\n",
              "0          -0.359384       -0.141167            0            0  ...   \n",
              "1          -0.359384        0.105604            0            0  ...   \n",
              "2          -0.359384        0.413707            0            0  ...   \n",
              "3          -0.359384        0.095486            0            0  ...   \n",
              "4          -0.359384        0.877101            0            0  ...   \n",
              "\n",
              "   Exterior1st_CemntBd  Exterior1st_HdBoard  Exterior1st_ImStucc  \\\n",
              "0                    0                    0                    0   \n",
              "1                    0                    0                    0   \n",
              "2                    0                    0                    0   \n",
              "3                    0                    0                    0   \n",
              "4                    0                    0                    0   \n",
              "\n",
              "   Exterior1st_MetalSd  Exterior1st_Plywood  Exterior1st_Stone  \\\n",
              "0                    0                    0                  0   \n",
              "1                    1                    0                  0   \n",
              "2                    0                    0                  0   \n",
              "3                    0                    0                  0   \n",
              "4                    0                    0                  0   \n",
              "\n",
              "   Exterior1st_Stucco  Exterior1st_VinylSd  Exterior1st_Wd Sdng  \\\n",
              "0                   0                    1                    0   \n",
              "1                   0                    0                    0   \n",
              "2                   0                    1                    0   \n",
              "3                   0                    0                    1   \n",
              "4                   0                    1                    0   \n",
              "\n",
              "   Exterior1st_WdShing  \n",
              "0                    0  \n",
              "1                    0  \n",
              "2                    0  \n",
              "3                    0  \n",
              "4                    0  \n",
              "\n",
              "[5 rows x 34 columns]"
            ]
          },
          "execution_count": 54,
          "metadata": {},
          "output_type": "execute_result"
        }
      ],
      "source": [
        "df_encoded.head()"
      ]
    },
    {
      "cell_type": "code",
      "execution_count": null,
      "id": "6fb51d80",
      "metadata": {
        "id": "6fb51d80"
      },
      "outputs": [],
      "source": [
        "output_file_path = 'encoded_df.xlsx'\n",
        "df_encoded.to_excel(output_file_path, index=False)"
      ]
    },
    {
      "cell_type": "markdown",
      "id": "2f3d4dba",
      "metadata": {
        "id": "2f3d4dba"
      },
      "source": [
        "# Linear_Regression"
      ]
    },
    {
      "cell_type": "code",
      "execution_count": null,
      "id": "32504748",
      "metadata": {
        "id": "32504748"
      },
      "outputs": [],
      "source": [
        "import pandas as pd\n",
        "from sklearn.model_selection import train_test_split\n",
        "from sklearn.linear_model import LinearRegression\n",
        "from sklearn.metrics import mean_squared_error, r2_score\n",
        "import numpy as np"
      ]
    },
    {
      "cell_type": "code",
      "execution_count": null,
      "id": "5b6606b9",
      "metadata": {
        "id": "5b6606b9"
      },
      "outputs": [],
      "source": [
        "X = df_encoded.drop('SalePrice', axis=1)\n",
        "y = df_encoded['SalePrice']"
      ]
    },
    {
      "cell_type": "code",
      "execution_count": null,
      "id": "284b8386",
      "metadata": {
        "id": "284b8386",
        "outputId": "355b17c3-db29-41c8-ca4e-e9bc14f0d2fd"
      },
      "outputs": [
        {
          "name": "stdout",
          "output_type": "stream",
          "text": [
            "Mean square value:  0.2790732802089317\n"
          ]
        }
      ],
      "source": [
        "# Splitting the dataset into training and testing sets\n",
        "X_train, X_test, y_train, y_test = train_test_split(X, y, test_size=0.2, random_state=42)\n",
        "\n",
        "# Initialize the Linear Regression model\n",
        "linear_model = LinearRegression()\n",
        "\n",
        "# Fit the model to the training data\n",
        "linear_model.fit(X_train, y_train)\n",
        "\n",
        "# Predicting on the test set\n",
        "y_pred = linear_model.predict(X_test)\n",
        "\n",
        "# Calculating metrics\n",
        "mse = mean_squared_error(y_test, y_pred)\n",
        "\n",
        "print(\"Mean square value: \", mse)"
      ]
    },
    {
      "cell_type": "code",
      "execution_count": null,
      "id": "712e7452",
      "metadata": {
        "id": "712e7452"
      },
      "outputs": [],
      "source": [
        "r2_train_linear = linear_model.score(X_train, y_train)\n",
        "\n",
        "# R² for testing set\n",
        "r2_test_linear = linear_model.score(X_test, y_test)"
      ]
    },
    {
      "cell_type": "code",
      "execution_count": null,
      "id": "b62270a3",
      "metadata": {
        "id": "b62270a3",
        "outputId": "998589ee-d15e-40bd-ac87-486c083be14b"
      },
      "outputs": [
        {
          "name": "stdout",
          "output_type": "stream",
          "text": [
            "train r-square value:  0.7166010876367379\n",
            "test r-square value:  0.7615449601483408\n"
          ]
        }
      ],
      "source": [
        "print(\"train r-square value: \", r2_train_linear)\n",
        "print(\"test r-square value: \", r2_test_linear)"
      ]
    },
    {
      "cell_type": "markdown",
      "id": "54aefd7d",
      "metadata": {
        "id": "54aefd7d"
      },
      "source": [
        "# PCA"
      ]
    },
    {
      "cell_type": "code",
      "execution_count": null,
      "id": "422ddb6c",
      "metadata": {
        "id": "422ddb6c"
      },
      "outputs": [],
      "source": [
        "from sklearn.decomposition import PCA\n",
        "from sklearn.preprocessing import StandardScaler"
      ]
    },
    {
      "cell_type": "code",
      "execution_count": null,
      "id": "99a717e8",
      "metadata": {
        "id": "99a717e8"
      },
      "outputs": [],
      "source": [
        "pca = PCA(n_components=0.95)\n",
        "X_pca = pca.fit_transform(X)"
      ]
    },
    {
      "cell_type": "code",
      "execution_count": null,
      "id": "0fa52fb7",
      "metadata": {
        "id": "0fa52fb7"
      },
      "outputs": [],
      "source": [
        "explained_variance = pca.explained_variance_ratio_\n",
        "\n",
        "n_components = sum(explained_variance.cumsum() <= 0.95)"
      ]
    },
    {
      "cell_type": "code",
      "execution_count": null,
      "id": "d35d7ef7",
      "metadata": {
        "id": "d35d7ef7",
        "outputId": "1121b179-1e38-48fb-96ce-bf79d8f851d9"
      },
      "outputs": [
        {
          "data": {
            "text/plain": [
              "12"
            ]
          },
          "execution_count": 64,
          "metadata": {},
          "output_type": "execute_result"
        }
      ],
      "source": [
        "n_components"
      ]
    },
    {
      "cell_type": "code",
      "execution_count": null,
      "id": "12b51ae8",
      "metadata": {
        "id": "12b51ae8",
        "outputId": "748780b3-7594-49e8-d431-22a8bb82fbbf"
      },
      "outputs": [
        {
          "data": {
            "text/plain": [
              "array([[ 1.06007384, -0.96748078, -0.16653288, ..., -0.07897436,\n",
              "         0.04424335, -0.03542068],\n",
              "       [-0.51734391,  1.38017785, -1.66126707, ..., -0.5818045 ,\n",
              "        -0.28472728, -0.26291611],\n",
              "       [ 1.2181568 , -0.59675326, -0.09025807, ..., -0.00518709,\n",
              "         0.06816484, -0.04661357],\n",
              "       ...,\n",
              "       [-1.1986614 ,  0.83691924, -3.27925789, ..., -0.13887663,\n",
              "         0.03428348,  0.27298273],\n",
              "       [-0.30768564,  1.52461626, -0.4681157 , ..., -0.64231118,\n",
              "         0.21797203, -0.14282705],\n",
              "       [-0.41053325,  1.81787129,  0.34628217, ...,  0.46528524,\n",
              "         0.45335706, -0.20349684]])"
            ]
          },
          "execution_count": 65,
          "metadata": {},
          "output_type": "execute_result"
        }
      ],
      "source": [
        "X_pca"
      ]
    },
    {
      "cell_type": "markdown",
      "id": "efcd81d8",
      "metadata": {
        "id": "efcd81d8"
      },
      "source": [
        "# Hyperparameter tuning for optimal degree for polynomial regression done for the PCA"
      ]
    },
    {
      "cell_type": "code",
      "execution_count": null,
      "id": "6accd67e",
      "metadata": {
        "id": "6accd67e",
        "outputId": "e7de1747-3ca1-4cf1-d733-d8305ac3d028"
      },
      "outputs": [
        {
          "data": {
            "text/plain": [
              "2"
            ]
          },
          "execution_count": 66,
          "metadata": {},
          "output_type": "execute_result"
        }
      ],
      "source": [
        "from sklearn.model_selection import train_test_split, cross_val_score\n",
        "from sklearn.preprocessing import PolynomialFeatures\n",
        "from sklearn.linear_model import LinearRegression\n",
        "from sklearn.pipeline import Pipeline\n",
        "import numpy as np\n",
        "\n",
        "# Assuming X_pca is your PCA-transformed features and y is the target variable\n",
        "X_train_pca, X_test_pca, y_train, y_test = train_test_split(X_pca, y, test_size=0.2, random_state=42)\n",
        "\n",
        "# Define a range of degrees\n",
        "degrees = [1, 2, 3, 4, 5]  # Adjust this based on your expectations\n",
        "\n",
        "# Store the average scores for each degree\n",
        "average_scores = []\n",
        "\n",
        "for degree in degrees:\n",
        "    # Create a pipeline with polynomial features and linear regression\n",
        "    pipeline = Pipeline([\n",
        "        ('poly_features', PolynomialFeatures(degree=degree)),\n",
        "        ('linear_regression', LinearRegression())\n",
        "    ])\n",
        "\n",
        "    # Perform cross-validation\n",
        "    scores = cross_val_score(pipeline, X_train_pca, y_train, scoring='neg_mean_squared_error', cv=5)\n",
        "\n",
        "    # Store the average score\n",
        "    average_scores.append(np.mean(scores))\n",
        "\n",
        "# The degree with the best score\n",
        "optimal_degree = degrees[np.argmax(average_scores)]\n",
        "\n",
        "optimal_degree\n"
      ]
    },
    {
      "cell_type": "markdown",
      "id": "89a7f6dd",
      "metadata": {
        "id": "89a7f6dd"
      },
      "source": [
        "# Polynomial regression"
      ]
    },
    {
      "cell_type": "code",
      "execution_count": null,
      "id": "44e87f7d",
      "metadata": {
        "id": "44e87f7d"
      },
      "outputs": [],
      "source": [
        "from sklearn.model_selection import train_test_split\n",
        "from sklearn.preprocessing import PolynomialFeatures\n",
        "from sklearn.linear_model import LinearRegression\n",
        "from sklearn.metrics import mean_squared_error, r2_score"
      ]
    },
    {
      "cell_type": "code",
      "execution_count": null,
      "id": "c4a20211",
      "metadata": {
        "id": "c4a20211"
      },
      "outputs": [],
      "source": [
        "X_train_pca, X_test_pca, y_train, y_test = train_test_split(X_pca, y, test_size=0.2, random_state=42)"
      ]
    },
    {
      "cell_type": "code",
      "execution_count": null,
      "id": "8e02ab91",
      "metadata": {
        "id": "8e02ab91",
        "outputId": "ab09344d-3949-494a-e336-3187606e1524"
      },
      "outputs": [
        {
          "name": "stdout",
          "output_type": "stream",
          "text": [
            "Mean square value:  0.2790732802089317\n"
          ]
        }
      ],
      "source": [
        "poly = PolynomialFeatures(degree=2)\n",
        "X_train_poly = poly.fit_transform(X_train_pca)\n",
        "X_test_poly = poly.transform(X_test_pca)\n",
        "\n",
        "poly_model = LinearRegression()\n",
        "poly_model.fit(X_train_poly, y_train)\n",
        "y_pred_poly = poly_model.predict(X_test_poly)\n",
        "\n",
        "# Metrics for polynomial model\n",
        "mse_poly = mean_squared_error(y_test, y_pred_poly)\n",
        "\n",
        "print(\"Mean square value: \", mse)"
      ]
    },
    {
      "cell_type": "code",
      "execution_count": null,
      "id": "408ce794",
      "metadata": {
        "id": "408ce794"
      },
      "outputs": [],
      "source": [
        "r2_train_poly = poly_model.score(X_train_poly, y_train)\n",
        "\n",
        "# R² for testing set\n",
        "r2_test_poly = poly_model.score(X_test_poly, y_test)"
      ]
    },
    {
      "cell_type": "code",
      "execution_count": null,
      "id": "8c1ae35a",
      "metadata": {
        "id": "8c1ae35a",
        "outputId": "f8e868e9-800b-4e75-8cde-f03cb119a09b"
      },
      "outputs": [
        {
          "name": "stdout",
          "output_type": "stream",
          "text": [
            "train r-square value:  0.8007962882036748\n",
            "test r-square value:  0.7524584382855368\n"
          ]
        }
      ],
      "source": [
        "print(\"train r-square value: \", r2_train_poly)\n",
        "print(\"test r-square value: \", r2_test_poly)"
      ]
    },
    {
      "cell_type": "markdown",
      "id": "59941b44",
      "metadata": {
        "id": "59941b44"
      },
      "source": [
        "# Ridge regression and hyperparameter tuning for ridge"
      ]
    },
    {
      "cell_type": "code",
      "execution_count": null,
      "id": "4b77b617",
      "metadata": {
        "id": "4b77b617",
        "outputId": "2a959c19-3546-41c1-fcdd-3eb21260e206"
      },
      "outputs": [
        {
          "name": "stdout",
          "output_type": "stream",
          "text": [
            "scikit-learn version: 1.3.2\n",
            "scipy version: 1.11.4\n"
          ]
        }
      ],
      "source": [
        "import sklearn\n",
        "import scipy\n",
        "\n",
        "print(\"scikit-learn version:\", sklearn.__version__)\n",
        "print(\"scipy version:\", scipy.__version__)"
      ]
    },
    {
      "cell_type": "code",
      "execution_count": null,
      "id": "eb8612cb",
      "metadata": {
        "id": "eb8612cb"
      },
      "outputs": [],
      "source": [
        "from sklearn.model_selection import GridSearchCV\n",
        "from sklearn.linear_model import Ridge\n",
        "\n",
        "# Assuming X_pca is your PCA-transformed features and y is the target variable\n",
        "X_train_pca, X_test_pca, y_train, y_test = train_test_split(X_pca, y, test_size=0.2, random_state=42)"
      ]
    },
    {
      "cell_type": "code",
      "execution_count": null,
      "id": "6bc2ea9a",
      "metadata": {
        "id": "6bc2ea9a",
        "outputId": "c74da9c6-09ea-4a67-8dbb-7abf0f6087fc"
      },
      "outputs": [
        {
          "data": {
            "text/plain": [
              "{'alpha': 54}"
            ]
          },
          "execution_count": 74,
          "metadata": {},
          "output_type": "execute_result"
        }
      ],
      "source": [
        "estimator=Ridge()\n",
        "\n",
        "param_grid={'alpha': [50,51,52,53,54,55]}\n",
        "\n",
        "# Set up GridSearchCV with Ridge Regression\n",
        "model_hp = GridSearchCV(estimator, param_grid, scoring='neg_mean_squared_error', cv=5)\n",
        "\n",
        "# Fit the model\n",
        "model_hp.fit(X_train_pca, y_train)\n",
        "\n",
        "model_hp.best_params_"
      ]
    },
    {
      "cell_type": "code",
      "execution_count": null,
      "id": "6e167c28",
      "metadata": {
        "id": "6e167c28",
        "outputId": "87ad3306-1012-445c-de65-4826bb096c2e"
      },
      "outputs": [
        {
          "name": "stdout",
          "output_type": "stream",
          "text": [
            "Mean square value:  0.3510259886443615\n"
          ]
        }
      ],
      "source": [
        "ridge_model = Ridge(alpha=54.0)\n",
        "\n",
        "# Fit the model on the training data\n",
        "ridge_model.fit(X_train_pca, y_train)\n",
        "\n",
        "# Predict on the test data\n",
        "y_pred = ridge_model.predict(X_test_pca)\n",
        "\n",
        "# Calculate metrics\n",
        "mse = mean_squared_error(y_test, y_pred)\n",
        "\n",
        "print(\"Mean square value: \", mse)"
      ]
    },
    {
      "cell_type": "code",
      "execution_count": null,
      "id": "a70931f3",
      "metadata": {
        "id": "a70931f3"
      },
      "outputs": [],
      "source": [
        "r2_train_ridge = ridge_model.score(X_train_pca, y_train)\n",
        "\n",
        "# R² for testing set\n",
        "r2_test_ridge = ridge_model.score(X_test_pca, y_test)"
      ]
    },
    {
      "cell_type": "code",
      "execution_count": null,
      "id": "d92c6125",
      "metadata": {
        "id": "d92c6125",
        "outputId": "d68b6cb5-f801-4d48-9603-bc73ff3bd903"
      },
      "outputs": [
        {
          "name": "stdout",
          "output_type": "stream",
          "text": [
            "train r-square value:  0.659637241801859\n",
            "test r-square value:  0.7000647426780044\n"
          ]
        }
      ],
      "source": [
        "print(\"train r-square value: \", r2_train_ridge)\n",
        "print(\"test r-square value: \", r2_test_ridge)"
      ]
    },
    {
      "cell_type": "markdown",
      "id": "8ff51fc7",
      "metadata": {
        "id": "8ff51fc7"
      },
      "source": [
        "# Lasso regression and hyperparameter tuning for lasso"
      ]
    },
    {
      "cell_type": "code",
      "execution_count": null,
      "id": "83f80cf1",
      "metadata": {
        "id": "83f80cf1"
      },
      "outputs": [],
      "source": [
        "from sklearn.linear_model import Lasso\n",
        "X_train_pca, X_test_pca, y_train, y_test = train_test_split(X_pca, y, test_size=0.2, random_state=42)"
      ]
    },
    {
      "cell_type": "code",
      "execution_count": null,
      "id": "47aa64a7",
      "metadata": {
        "id": "47aa64a7",
        "outputId": "007b6512-ab89-4139-9d2d-a98a2d411563"
      },
      "outputs": [
        {
          "data": {
            "text/plain": [
              "{'alpha': 0.0001}"
            ]
          },
          "execution_count": 79,
          "metadata": {},
          "output_type": "execute_result"
        }
      ],
      "source": [
        "alpha_values = [0.0001, 0.001, 0.01, 0.1, 1, 10]\n",
        "\n",
        "# Set up GridSearchCV with Lasso Regression\n",
        "grid_search = GridSearchCV(estimator=Lasso(), param_grid={'alpha': alpha_values}, scoring='neg_mean_squared_error', cv=5)\n",
        "\n",
        "# Fit the model\n",
        "grid_search.fit(X_train_pca, y_train)\n",
        "\n",
        "grid_search.best_params_"
      ]
    },
    {
      "cell_type": "code",
      "execution_count": null,
      "id": "e2b53061",
      "metadata": {
        "id": "e2b53061",
        "outputId": "02c517db-6aff-4283-812f-79133077e6e2"
      },
      "outputs": [
        {
          "name": "stdout",
          "output_type": "stream",
          "text": [
            "Mean square value:  0.3434781185454425\n"
          ]
        }
      ],
      "source": [
        "best_lasso_model = Lasso(alpha=0.0001)\n",
        "best_lasso_model.fit(X_train_pca, y_train)\n",
        "\n",
        "# Predict on the test set\n",
        "y_pred = best_lasso_model.predict(X_test_pca)\n",
        "\n",
        "# Calculate metrics\n",
        "mse = mean_squared_error(y_test, y_pred)\n",
        "\n",
        "print(\"Mean square value: \", mse)"
      ]
    },
    {
      "cell_type": "code",
      "execution_count": null,
      "id": "2b3ad8c3",
      "metadata": {
        "id": "2b3ad8c3"
      },
      "outputs": [],
      "source": [
        "r2_train_lasso = best_lasso_model.score(X_train_pca, y_train)\n",
        "\n",
        "# R² for testing set\n",
        "r2_test_lasso = best_lasso_model.score(X_test_pca, y_test)"
      ]
    },
    {
      "cell_type": "code",
      "execution_count": null,
      "id": "fbcf3984",
      "metadata": {
        "id": "fbcf3984",
        "outputId": "fadca7fc-acdc-4a16-ad1c-507fc6fb8c66"
      },
      "outputs": [
        {
          "name": "stdout",
          "output_type": "stream",
          "text": [
            "train r-square value:  0.6608708084353809\n",
            "test r-square value:  0.706514043965055\n"
          ]
        }
      ],
      "source": [
        "print(\"train r-square value: \", r2_train_lasso)\n",
        "print(\"test r-square value: \", r2_test_lasso)"
      ]
    },
    {
      "cell_type": "markdown",
      "id": "c207a3a3",
      "metadata": {
        "id": "c207a3a3"
      },
      "source": [
        "# Forward Stepwise Selection, Backward Stepwise Selection"
      ]
    },
    {
      "cell_type": "code",
      "execution_count": null,
      "id": "54b14179",
      "metadata": {
        "id": "54b14179"
      },
      "outputs": [],
      "source": [
        "from mlxtend.feature_selection import SequentialFeatureSelector as SFS\n",
        "from sklearn.linear_model import LinearRegression"
      ]
    },
    {
      "cell_type": "code",
      "execution_count": null,
      "id": "6340d128",
      "metadata": {
        "id": "6340d128"
      },
      "outputs": [],
      "source": [
        "sfs_forward = SFS(LinearRegression(),\n",
        "                  k_features='best',\n",
        "                  forward=True,\n",
        "                  floating=False,\n",
        "                  scoring='r2',\n",
        "                  cv=5)\n",
        "sfs_forward = sfs_forward.fit(X, y)"
      ]
    },
    {
      "cell_type": "code",
      "execution_count": null,
      "id": "e50230d0",
      "metadata": {
        "id": "e50230d0",
        "outputId": "1a1c713a-061a-405f-a910-afce7c42d6ab"
      },
      "outputs": [
        {
          "data": {
            "text/html": [
              "<style>#sk-container-id-1 {color: black;}#sk-container-id-1 pre{padding: 0;}#sk-container-id-1 div.sk-toggleable {background-color: white;}#sk-container-id-1 label.sk-toggleable__label {cursor: pointer;display: block;width: 100%;margin-bottom: 0;padding: 0.3em;box-sizing: border-box;text-align: center;}#sk-container-id-1 label.sk-toggleable__label-arrow:before {content: \"▸\";float: left;margin-right: 0.25em;color: #696969;}#sk-container-id-1 label.sk-toggleable__label-arrow:hover:before {color: black;}#sk-container-id-1 div.sk-estimator:hover label.sk-toggleable__label-arrow:before {color: black;}#sk-container-id-1 div.sk-toggleable__content {max-height: 0;max-width: 0;overflow: hidden;text-align: left;background-color: #f0f8ff;}#sk-container-id-1 div.sk-toggleable__content pre {margin: 0.2em;color: black;border-radius: 0.25em;background-color: #f0f8ff;}#sk-container-id-1 input.sk-toggleable__control:checked~div.sk-toggleable__content {max-height: 200px;max-width: 100%;overflow: auto;}#sk-container-id-1 input.sk-toggleable__control:checked~label.sk-toggleable__label-arrow:before {content: \"▾\";}#sk-container-id-1 div.sk-estimator input.sk-toggleable__control:checked~label.sk-toggleable__label {background-color: #d4ebff;}#sk-container-id-1 div.sk-label input.sk-toggleable__control:checked~label.sk-toggleable__label {background-color: #d4ebff;}#sk-container-id-1 input.sk-hidden--visually {border: 0;clip: rect(1px 1px 1px 1px);clip: rect(1px, 1px, 1px, 1px);height: 1px;margin: -1px;overflow: hidden;padding: 0;position: absolute;width: 1px;}#sk-container-id-1 div.sk-estimator {font-family: monospace;background-color: #f0f8ff;border: 1px dotted black;border-radius: 0.25em;box-sizing: border-box;margin-bottom: 0.5em;}#sk-container-id-1 div.sk-estimator:hover {background-color: #d4ebff;}#sk-container-id-1 div.sk-parallel-item::after {content: \"\";width: 100%;border-bottom: 1px solid gray;flex-grow: 1;}#sk-container-id-1 div.sk-label:hover label.sk-toggleable__label {background-color: #d4ebff;}#sk-container-id-1 div.sk-serial::before {content: \"\";position: absolute;border-left: 1px solid gray;box-sizing: border-box;top: 0;bottom: 0;left: 50%;z-index: 0;}#sk-container-id-1 div.sk-serial {display: flex;flex-direction: column;align-items: center;background-color: white;padding-right: 0.2em;padding-left: 0.2em;position: relative;}#sk-container-id-1 div.sk-item {position: relative;z-index: 1;}#sk-container-id-1 div.sk-parallel {display: flex;align-items: stretch;justify-content: center;background-color: white;position: relative;}#sk-container-id-1 div.sk-item::before, #sk-container-id-1 div.sk-parallel-item::before {content: \"\";position: absolute;border-left: 1px solid gray;box-sizing: border-box;top: 0;bottom: 0;left: 50%;z-index: -1;}#sk-container-id-1 div.sk-parallel-item {display: flex;flex-direction: column;z-index: 1;position: relative;background-color: white;}#sk-container-id-1 div.sk-parallel-item:first-child::after {align-self: flex-end;width: 50%;}#sk-container-id-1 div.sk-parallel-item:last-child::after {align-self: flex-start;width: 50%;}#sk-container-id-1 div.sk-parallel-item:only-child::after {width: 0;}#sk-container-id-1 div.sk-dashed-wrapped {border: 1px dashed gray;margin: 0 0.4em 0.5em 0.4em;box-sizing: border-box;padding-bottom: 0.4em;background-color: white;}#sk-container-id-1 div.sk-label label {font-family: monospace;font-weight: bold;display: inline-block;line-height: 1.2em;}#sk-container-id-1 div.sk-label-container {text-align: center;}#sk-container-id-1 div.sk-container {/* jupyter's `normalize.less` sets `[hidden] { display: none; }` but bootstrap.min.css set `[hidden] { display: none !important; }` so we also need the `!important` here to be able to override the default hidden behavior on the sphinx rendered scikit-learn.org. See: https://github.com/scikit-learn/scikit-learn/issues/21755 */display: inline-block !important;position: relative;}#sk-container-id-1 div.sk-text-repr-fallback {display: none;}</style><div id=\"sk-container-id-1\" class=\"sk-top-container\"><div class=\"sk-text-repr-fallback\"><pre>SequentialFeatureSelector(estimator=LinearRegression(), k_features=(1, 33),\n",
              "                          scoring=&#x27;r2&#x27;)</pre><b>In a Jupyter environment, please rerun this cell to show the HTML representation or trust the notebook. <br />On GitHub, the HTML representation is unable to render, please try loading this page with nbviewer.org.</b></div><div class=\"sk-container\" hidden><div class=\"sk-item sk-dashed-wrapped\"><div class=\"sk-label-container\"><div class=\"sk-label sk-toggleable\"><input class=\"sk-toggleable__control sk-hidden--visually\" id=\"sk-estimator-id-1\" type=\"checkbox\" ><label for=\"sk-estimator-id-1\" class=\"sk-toggleable__label sk-toggleable__label-arrow\">SequentialFeatureSelector</label><div class=\"sk-toggleable__content\"><pre>SequentialFeatureSelector(estimator=LinearRegression(), k_features=(1, 33),\n",
              "                          scoring=&#x27;r2&#x27;)</pre></div></div></div><div class=\"sk-parallel\"><div class=\"sk-parallel-item\"><div class=\"sk-item\"><div class=\"sk-label-container\"><div class=\"sk-label sk-toggleable\"><input class=\"sk-toggleable__control sk-hidden--visually\" id=\"sk-estimator-id-2\" type=\"checkbox\" ><label for=\"sk-estimator-id-2\" class=\"sk-toggleable__label sk-toggleable__label-arrow\">estimator: LinearRegression</label><div class=\"sk-toggleable__content\"><pre>LinearRegression()</pre></div></div></div><div class=\"sk-serial\"><div class=\"sk-item\"><div class=\"sk-estimator sk-toggleable\"><input class=\"sk-toggleable__control sk-hidden--visually\" id=\"sk-estimator-id-3\" type=\"checkbox\" ><label for=\"sk-estimator-id-3\" class=\"sk-toggleable__label sk-toggleable__label-arrow\">LinearRegression</label><div class=\"sk-toggleable__content\"><pre>LinearRegression()</pre></div></div></div></div></div></div></div></div></div></div>"
            ],
            "text/plain": [
              "SequentialFeatureSelector(estimator=LinearRegression(), k_features=(1, 33),\n",
              "                          scoring='r2')"
            ]
          },
          "execution_count": 86,
          "metadata": {},
          "output_type": "execute_result"
        }
      ],
      "source": [
        "sfs_forward"
      ]
    },
    {
      "cell_type": "code",
      "execution_count": null,
      "id": "0867842b",
      "metadata": {
        "id": "0867842b"
      },
      "outputs": [],
      "source": [
        "sfs_backward = SFS(LinearRegression(),\n",
        "                   k_features='best',\n",
        "                   forward=False,\n",
        "                   floating=False,\n",
        "                   scoring='r2',\n",
        "                   cv=5)\n",
        "sfs_backward = sfs_backward.fit(X, y)"
      ]
    },
    {
      "cell_type": "code",
      "execution_count": null,
      "id": "b034f9ee",
      "metadata": {
        "id": "b034f9ee",
        "outputId": "d1ad0eae-76e3-4d3d-ec17-b18338304fb1"
      },
      "outputs": [
        {
          "data": {
            "text/html": [
              "<style>#sk-container-id-2 {color: black;}#sk-container-id-2 pre{padding: 0;}#sk-container-id-2 div.sk-toggleable {background-color: white;}#sk-container-id-2 label.sk-toggleable__label {cursor: pointer;display: block;width: 100%;margin-bottom: 0;padding: 0.3em;box-sizing: border-box;text-align: center;}#sk-container-id-2 label.sk-toggleable__label-arrow:before {content: \"▸\";float: left;margin-right: 0.25em;color: #696969;}#sk-container-id-2 label.sk-toggleable__label-arrow:hover:before {color: black;}#sk-container-id-2 div.sk-estimator:hover label.sk-toggleable__label-arrow:before {color: black;}#sk-container-id-2 div.sk-toggleable__content {max-height: 0;max-width: 0;overflow: hidden;text-align: left;background-color: #f0f8ff;}#sk-container-id-2 div.sk-toggleable__content pre {margin: 0.2em;color: black;border-radius: 0.25em;background-color: #f0f8ff;}#sk-container-id-2 input.sk-toggleable__control:checked~div.sk-toggleable__content {max-height: 200px;max-width: 100%;overflow: auto;}#sk-container-id-2 input.sk-toggleable__control:checked~label.sk-toggleable__label-arrow:before {content: \"▾\";}#sk-container-id-2 div.sk-estimator input.sk-toggleable__control:checked~label.sk-toggleable__label {background-color: #d4ebff;}#sk-container-id-2 div.sk-label input.sk-toggleable__control:checked~label.sk-toggleable__label {background-color: #d4ebff;}#sk-container-id-2 input.sk-hidden--visually {border: 0;clip: rect(1px 1px 1px 1px);clip: rect(1px, 1px, 1px, 1px);height: 1px;margin: -1px;overflow: hidden;padding: 0;position: absolute;width: 1px;}#sk-container-id-2 div.sk-estimator {font-family: monospace;background-color: #f0f8ff;border: 1px dotted black;border-radius: 0.25em;box-sizing: border-box;margin-bottom: 0.5em;}#sk-container-id-2 div.sk-estimator:hover {background-color: #d4ebff;}#sk-container-id-2 div.sk-parallel-item::after {content: \"\";width: 100%;border-bottom: 1px solid gray;flex-grow: 1;}#sk-container-id-2 div.sk-label:hover label.sk-toggleable__label {background-color: #d4ebff;}#sk-container-id-2 div.sk-serial::before {content: \"\";position: absolute;border-left: 1px solid gray;box-sizing: border-box;top: 0;bottom: 0;left: 50%;z-index: 0;}#sk-container-id-2 div.sk-serial {display: flex;flex-direction: column;align-items: center;background-color: white;padding-right: 0.2em;padding-left: 0.2em;position: relative;}#sk-container-id-2 div.sk-item {position: relative;z-index: 1;}#sk-container-id-2 div.sk-parallel {display: flex;align-items: stretch;justify-content: center;background-color: white;position: relative;}#sk-container-id-2 div.sk-item::before, #sk-container-id-2 div.sk-parallel-item::before {content: \"\";position: absolute;border-left: 1px solid gray;box-sizing: border-box;top: 0;bottom: 0;left: 50%;z-index: -1;}#sk-container-id-2 div.sk-parallel-item {display: flex;flex-direction: column;z-index: 1;position: relative;background-color: white;}#sk-container-id-2 div.sk-parallel-item:first-child::after {align-self: flex-end;width: 50%;}#sk-container-id-2 div.sk-parallel-item:last-child::after {align-self: flex-start;width: 50%;}#sk-container-id-2 div.sk-parallel-item:only-child::after {width: 0;}#sk-container-id-2 div.sk-dashed-wrapped {border: 1px dashed gray;margin: 0 0.4em 0.5em 0.4em;box-sizing: border-box;padding-bottom: 0.4em;background-color: white;}#sk-container-id-2 div.sk-label label {font-family: monospace;font-weight: bold;display: inline-block;line-height: 1.2em;}#sk-container-id-2 div.sk-label-container {text-align: center;}#sk-container-id-2 div.sk-container {/* jupyter's `normalize.less` sets `[hidden] { display: none; }` but bootstrap.min.css set `[hidden] { display: none !important; }` so we also need the `!important` here to be able to override the default hidden behavior on the sphinx rendered scikit-learn.org. See: https://github.com/scikit-learn/scikit-learn/issues/21755 */display: inline-block !important;position: relative;}#sk-container-id-2 div.sk-text-repr-fallback {display: none;}</style><div id=\"sk-container-id-2\" class=\"sk-top-container\"><div class=\"sk-text-repr-fallback\"><pre>SequentialFeatureSelector(estimator=LinearRegression(), forward=False,\n",
              "                          k_features=(1, 33), scoring=&#x27;r2&#x27;)</pre><b>In a Jupyter environment, please rerun this cell to show the HTML representation or trust the notebook. <br />On GitHub, the HTML representation is unable to render, please try loading this page with nbviewer.org.</b></div><div class=\"sk-container\" hidden><div class=\"sk-item sk-dashed-wrapped\"><div class=\"sk-label-container\"><div class=\"sk-label sk-toggleable\"><input class=\"sk-toggleable__control sk-hidden--visually\" id=\"sk-estimator-id-4\" type=\"checkbox\" ><label for=\"sk-estimator-id-4\" class=\"sk-toggleable__label sk-toggleable__label-arrow\">SequentialFeatureSelector</label><div class=\"sk-toggleable__content\"><pre>SequentialFeatureSelector(estimator=LinearRegression(), forward=False,\n",
              "                          k_features=(1, 33), scoring=&#x27;r2&#x27;)</pre></div></div></div><div class=\"sk-parallel\"><div class=\"sk-parallel-item\"><div class=\"sk-item\"><div class=\"sk-label-container\"><div class=\"sk-label sk-toggleable\"><input class=\"sk-toggleable__control sk-hidden--visually\" id=\"sk-estimator-id-5\" type=\"checkbox\" ><label for=\"sk-estimator-id-5\" class=\"sk-toggleable__label sk-toggleable__label-arrow\">estimator: LinearRegression</label><div class=\"sk-toggleable__content\"><pre>LinearRegression()</pre></div></div></div><div class=\"sk-serial\"><div class=\"sk-item\"><div class=\"sk-estimator sk-toggleable\"><input class=\"sk-toggleable__control sk-hidden--visually\" id=\"sk-estimator-id-6\" type=\"checkbox\" ><label for=\"sk-estimator-id-6\" class=\"sk-toggleable__label sk-toggleable__label-arrow\">LinearRegression</label><div class=\"sk-toggleable__content\"><pre>LinearRegression()</pre></div></div></div></div></div></div></div></div></div></div>"
            ],
            "text/plain": [
              "SequentialFeatureSelector(estimator=LinearRegression(), forward=False,\n",
              "                          k_features=(1, 33), scoring='r2')"
            ]
          },
          "execution_count": 87,
          "metadata": {},
          "output_type": "execute_result"
        }
      ],
      "source": [
        "sfs_backward"
      ]
    },
    {
      "cell_type": "code",
      "execution_count": null,
      "id": "6da6ba7f",
      "metadata": {
        "id": "6da6ba7f",
        "outputId": "e66bbeec-45d2-4552-c13c-b96278dabb05"
      },
      "outputs": [
        {
          "name": "stdout",
          "output_type": "stream",
          "text": [
            "Selected features: ['MSSubClass', 'OverallCond', 'YearBuilt', 'YearRemodAdd', 'TotalBsmtSF', 'BsmtFinSF2_BoxCox', 'LotArea_boxcox', 'MSZoning_FV', 'MSZoning_RH', 'MSZoning_RL', 'MSZoning_RM', 'LotConfig_FR2', 'BldgType_2fmCon', 'BldgType_Duplex', 'BldgType_Twnhs', 'BldgType_TwnhsE', 'Exterior1st_BrkFace', 'Exterior1st_HdBoard', 'Exterior1st_Plywood']\n"
          ]
        }
      ],
      "source": [
        "selected_features = list(sfs_forward.k_feature_names_)\n",
        "print(\"Selected features:\", selected_features)"
      ]
    },
    {
      "cell_type": "code",
      "execution_count": null,
      "id": "e3dfb91a",
      "metadata": {
        "id": "e3dfb91a",
        "outputId": "39b0940a-7941-49aa-f1bc-68c3028e9e86"
      },
      "outputs": [
        {
          "name": "stdout",
          "output_type": "stream",
          "text": [
            "Selected features: ['MSSubClass', 'OverallCond', 'YearBuilt', 'YearRemodAdd', 'TotalBsmtSF', 'BsmtFinSF2_BoxCox', 'LotArea_boxcox', 'MSZoning_FV', 'MSZoning_RH', 'MSZoning_RL', 'MSZoning_RM', 'LotConfig_FR2', 'BldgType_2fmCon', 'BldgType_Duplex', 'BldgType_Twnhs', 'BldgType_TwnhsE', 'Exterior1st_BrkFace', 'Exterior1st_HdBoard', 'Exterior1st_Plywood']\n"
          ]
        }
      ],
      "source": [
        "selected_features = list(sfs_backward.k_feature_names_)\n",
        "print(\"Selected features:\", selected_features)"
      ]
    },
    {
      "cell_type": "code",
      "execution_count": null,
      "id": "5b407fb1",
      "metadata": {
        "id": "5b407fb1"
      },
      "outputs": [],
      "source": []
    }
  ],
  "metadata": {
    "kernelspec": {
      "display_name": "Python 3 (ipykernel)",
      "language": "python",
      "name": "python3"
    },
    "language_info": {
      "codemirror_mode": {
        "name": "ipython",
        "version": 3
      },
      "file_extension": ".py",
      "mimetype": "text/x-python",
      "name": "python",
      "nbconvert_exporter": "python",
      "pygments_lexer": "ipython3",
      "version": "3.9.12"
    },
    "colab": {
      "provenance": []
    }
  },
  "nbformat": 4,
  "nbformat_minor": 5
}